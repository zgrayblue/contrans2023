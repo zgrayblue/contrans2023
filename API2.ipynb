{
 "cells": [
  {
   "cell_type": "code",
   "execution_count": 2,
   "id": "3abfb564-a26c-4cdb-a318-77f0ef57310c",
   "metadata": {},
   "outputs": [],
   "source": [
    "import numpy as np\n",
    "import pandas as pd\n",
    "import requests\n",
    "import os\n",
    "import json"
   ]
  },
  {
   "cell_type": "code",
   "execution_count": 3,
   "id": "d9f109df-e0d3-4262-8a4a-8c23d91d781e",
   "metadata": {},
   "outputs": [],
   "source": [
    "congressapi = os.environ['congressapi']\n",
    "opensecretsapi = os.environ['opensecretsapi']"
   ]
  },
  {
   "cell_type": "markdown",
   "id": "325f1ac7-0195-4f63-b54c-45e07930d528",
   "metadata": {},
   "source": [
    "# Congress Bills API for the 118th Congress"
   ]
  },
  {
   "cell_type": "code",
   "execution_count": 4,
   "id": "7efb0e6d-77a6-4e25-b77f-16a4e17f49c4",
   "metadata": {},
   "outputs": [],
   "source": [
    "root = 'https://api.congress.gov/v3'\n",
    "congress = '118'\n",
    "endpoint = f'/bill/{congress}'"
   ]
  },
  {
   "cell_type": "code",
   "execution_count": 5,
   "id": "a42055a3-ba1c-4154-bec8-4e9e3cbf46d5",
   "metadata": {},
   "outputs": [],
   "source": [
    "parameters = {'format': 'json',\n",
    "             'offset': 0,\n",
    "              'limit': 250,\n",
    "              'sort': 'updateDate+desc',\n",
    "              'api_key': congressapi}"
   ]
  },
  {
   "cell_type": "code",
   "execution_count": 6,
   "id": "a914d646-ccf8-4514-90fd-ae4ebe88c333",
   "metadata": {},
   "outputs": [],
   "source": [
    "r = requests.get('http://httpbin.org/user-agent')\n",
    "useragent = json.loads(r.text)['user-agent']"
   ]
  },
  {
   "cell_type": "code",
   "execution_count": 7,
   "id": "ce991885-368f-4e18-a868-641e705dcc28",
   "metadata": {},
   "outputs": [],
   "source": [
    "headers = {'User-Agent': useragent,\n",
    "          'From': 'pdy2bw@virginia.edu'}"
   ]
  },
  {
   "cell_type": "code",
   "execution_count": 8,
   "id": "240bdb58-32fc-4139-92fb-6fcca5b72846",
   "metadata": {},
   "outputs": [],
   "source": [
    "r = requests.get(root + endpoint,\n",
    "                params = parameters,\n",
    "                headers = headers)"
   ]
  },
  {
   "cell_type": "code",
   "execution_count": 9,
   "id": "8f211180-bf6d-4c47-a924-15eba504085a",
   "metadata": {},
   "outputs": [
    {
     "data": {
      "text/plain": [
       "<Response [200]>"
      ]
     },
     "execution_count": 9,
     "metadata": {},
     "output_type": "execute_result"
    }
   ],
   "source": [
    "r"
   ]
  },
  {
   "cell_type": "code",
   "execution_count": 10,
   "id": "7dc52254-eb80-4434-8880-44f459ffe263",
   "metadata": {},
   "outputs": [],
   "source": [
    "myjson = json.loads(r.text)"
   ]
  },
  {
   "cell_type": "code",
   "execution_count": 11,
   "id": "36a246b0-a3aa-45c9-a587-a41e9121e81c",
   "metadata": {},
   "outputs": [
    {
     "data": {
      "text/plain": [
       "'4367'"
      ]
     },
     "execution_count": 11,
     "metadata": {},
     "output_type": "execute_result"
    }
   ],
   "source": [
    "myjson['bills'][0]['number']"
   ]
  },
  {
   "cell_type": "code",
   "execution_count": 12,
   "id": "d567ca0b-fb88-4a72-be5b-d0f1a8c4a6e4",
   "metadata": {},
   "outputs": [],
   "source": [
    "#[x['number'] for x in myjson['bills']]"
   ]
  },
  {
   "cell_type": "code",
   "execution_count": 13,
   "id": "88af1e86-3313-4148-b080-2b5023825a7a",
   "metadata": {},
   "outputs": [],
   "source": [
    "with open('bills.json', 'w') as f:\n",
    "    json.dump(myjson, f)"
   ]
  },
  {
   "cell_type": "code",
   "execution_count": 14,
   "id": "cf6379d5-1312-4401-8b78-50a9cf040365",
   "metadata": {},
   "outputs": [],
   "source": [
    "#can use jsonhero.io to see things easier with non-private info"
   ]
  },
  {
   "cell_type": "code",
   "execution_count": 15,
   "id": "5cb36b79-7c31-4985-8d32-c1b677c3fa36",
   "metadata": {},
   "outputs": [],
   "source": [
    "billsdf = pd.json_normalize(myjson,\n",
    "                           record_path = ['bills'])"
   ]
  },
  {
   "cell_type": "code",
   "execution_count": 16,
   "id": "078a6b55-03c0-4643-9c9e-8b9ab9c9933b",
   "metadata": {},
   "outputs": [],
   "source": [
    "root = 'http://www.opensecrets.org/api/'\n",
    "parameters = {'method' : 'getLegislators',\n",
    "             'apikey' : opensecretsapi,\n",
    "             'id' : 'VA',\n",
    "             'output' : 'json'}"
   ]
  },
  {
   "cell_type": "code",
   "execution_count": 17,
   "id": "586322cd-9f22-4d61-b81a-605a4ad1931a",
   "metadata": {},
   "outputs": [],
   "source": [
    "r = requests.get(root, params=parameters, headers=headers)"
   ]
  },
  {
   "cell_type": "code",
   "execution_count": 18,
   "id": "6dec200a-1471-474a-8018-0eb9b8b266b0",
   "metadata": {},
   "outputs": [
    {
     "data": {
      "text/plain": [
       "<Response [200]>"
      ]
     },
     "execution_count": 18,
     "metadata": {},
     "output_type": "execute_result"
    }
   ],
   "source": [
    "r"
   ]
  },
  {
   "cell_type": "code",
   "execution_count": 25,
   "id": "df1420f9-33e8-4628-b038-96374fa473cd",
   "metadata": {},
   "outputs": [],
   "source": [
    "#thursday sept 28 - house bills\n",
    "root = 'https://api.congress.gov/v3'\n",
    "congress = '118'\n",
    "bill_type = \"hr\"\n",
    "endpoint = f'/bill/{congress}/{bill_type}'\n",
    "r = requests.get('http://httpbin.org/user-agent')\n",
    "useragent = json.loads(r.text)['user-agent']\n",
    "headers = {'User-Agent': useragent,\n",
    "          'From': 'pdy2bw@virginia.edu'}\n",
    "\n",
    "house_bills = []\n",
    "for i in range(0, 1001, 250):\n",
    "    parameters = {'format': 'json',\n",
    "                    'offset': i,\n",
    "                  'limit': 250,\n",
    "                  'sort': 'updateDate+desc',\n",
    "                  'api_key': congressapi\n",
    "    }\n",
    "    r = requests.get(root + endpoint, params = parameters, headers = headers)\n",
    "    myjson = json.loads(r.text)\n",
    "    bills = myjson['bills']\n",
    "    house_bills.append(bills)"
   ]
  },
  {
   "cell_type": "code",
   "execution_count": 26,
   "id": "e0e4b385-2ff5-4946-b657-ab200d750594",
   "metadata": {},
   "outputs": [],
   "source": [
    "df1 = pd.DataFrame.from_dict(house_bills[0])\n",
    "df2 = pd.DataFrame.from_dict(house_bills[1])\n",
    "df3 = pd.DataFrame.from_dict(house_bills[2])\n",
    "df4 = pd.DataFrame.from_dict(house_bills[3])\n",
    "df5 = pd.DataFrame.from_dict(house_bills[4])\n",
    "frames = [df1, df2, df3, df4, df5]\n",
    "house_bills = pd.concat(frames, ignore_index = True)"
   ]
  },
  {
   "cell_type": "code",
   "execution_count": null,
   "id": "e886614e-b652-4705-ab03-4b0244669660",
   "metadata": {},
   "outputs": [],
   "source": [
    "#thursday sept 28 - senate bills\n",
    "root = 'https://api.congress.gov/v3'\n",
    "congress = '118'\n",
    "bill_type = \"s\"\n",
    "endpoint = f'/bill/{congress}/{bill_type}'\n",
    "r = requests.get('http://httpbin.org/user-agent')\n",
    "useragent = json.loads(r.text)['user-agent']\n",
    "headers = {'User-Agent': useragent,\n",
    "          'From': 'pdy2bw@virginia.edu'}\n",
    "\n",
    "senate_bills = []\n",
    "for i in range(0, 1001, 250):\n",
    "    parameters = {'format': 'json',\n",
    "                    'offset': i,\n",
    "                  'limit': 250,\n",
    "                  'sort': 'updateDate+desc',\n",
    "                  'api_key': congressapi\n",
    "    }\n",
    "    r = requests.get(root + endpoint, params = parameters, headers = headers)\n",
    "    myjson = json.loads(r.text)\n",
    "    bills = myjson['bills']\n",
    "    senate_bills.append(bills)\n",
    "\n",
    "df1 = pd.DataFrame.from_dict(senate_bills[0])\n",
    "df2 = pd.DataFrame.from_dict(senate_bills[1])\n",
    "df3 = pd.DataFrame.from_dict(senate_bills[2])\n",
    "df4 = pd.DataFrame.from_dict(senate_bills[3])\n",
    "df5 = pd.DataFrame.from_dict(senate_bills[4])\n",
    "frames = [df1, df2, df3, df4, df5]\n",
    "senate_bills = pd.concat(frames, ignore_index = True)"
   ]
  },
  {
   "cell_type": "code",
   "execution_count": null,
   "id": "f0097de1-fc6d-498a-9dd0-ec6a8dcb116e",
   "metadata": {},
   "outputs": [],
   "source": [
    "#thursday sept 28 - sponsors\n",
    "root = 'https://api.congress.gov/v3'\n",
    "congress = '118'\n",
    "bill_type = \"s\"\n",
    "cosponsors = []\n",
    "\n",
    "for i in range(0, 100):\n",
    "    bill_number = senate_bills.iloc[i]['number']\n",
    "    endpoint = f'/bill/{congress}/{bill_type}/{bill_number}/cosponsors'\n",
    "    parameters = {'format': 'json',\n",
    "                  'sort': 'updateDate+desc',\n",
    "                  'api_key': congressapi\n",
    "    }\n",
    "    r = requests.get(root + endpoint, params = parameters, headers = headers)\n",
    "    myjson = json.loads(r.text)\n",
    "    cosponsor = myjson['cosponsors']\n",
    "    cosponsors.append({\"Bill Number\": f\"S {bill_number}\", \"Cosponsors\": cosponsor})\n",
    "\n",
    "cosponsors = pd.DataFrame.from_dict(cosponsors)\n",
    "cosponsors   "
   ]
  },
  {
   "cell_type": "code",
   "execution_count": 44,
   "id": "314e1023-b7a2-4a3b-9ada-7178c807e7ea",
   "metadata": {},
   "outputs": [
    {
     "data": {
      "text/plain": [
       "['N00029459',\n",
       " 'N00048315',\n",
       " 'N00002147',\n",
       " 'N00051961',\n",
       " 'N00045557',\n",
       " 'N00042296',\n",
       " 'N00041418',\n",
       " 'N00036018',\n",
       " 'N00032029',\n",
       " 'N00041002',\n",
       " 'N00029891',\n",
       " 'N00033177',\n",
       " 'N00002097']"
      ]
     },
     "execution_count": 44,
     "metadata": {},
     "output_type": "execute_result"
    }
   ],
   "source": [
    "root = 'http://www.opensecrets.org/api/'\n",
    "parameters = {'method' : 'getLegislators',\n",
    "             'apikey' : opensecretsapi,\n",
    "             'id' : 'VA',\n",
    "             'output' : 'json'}\n",
    "headers = {'User-Agent': useragent,\n",
    "          'From': 'pdy2bw@virginia.edu'}\n",
    "r = requests.get(root, params=parameters, headers=headers)\n",
    "myjson = json.loads(r.text)\n",
    "\n",
    "cids = []\n",
    "for i in range(0, len(myjson['response']['legislator'])):\n",
    "    cid = myjson['response']['legislator'][i]['@attributes']['cid']\n",
    "    cids.append(cid)\n",
    "cids"
   ]
  },
  {
   "cell_type": "code",
   "execution_count": 49,
   "id": "9650d453-e3c3-4a52-86ad-50a20b5b0955",
   "metadata": {},
   "outputs": [
    {
     "data": {
      "text/html": [
       "<div>\n",
       "<style scoped>\n",
       "    .dataframe tbody tr th:only-of-type {\n",
       "        vertical-align: middle;\n",
       "    }\n",
       "\n",
       "    .dataframe tbody tr th {\n",
       "        vertical-align: top;\n",
       "    }\n",
       "\n",
       "    .dataframe thead th {\n",
       "        text-align: right;\n",
       "    }\n",
       "</style>\n",
       "<table border=\"1\" class=\"dataframe\">\n",
       "  <thead>\n",
       "    <tr style=\"text-align: right;\">\n",
       "      <th></th>\n",
       "      <th>CID</th>\n",
       "      <th>Financial Information</th>\n",
       "    </tr>\n",
       "  </thead>\n",
       "  <tbody>\n",
       "    <tr>\n",
       "      <th>0</th>\n",
       "      <td>N00029459</td>\n",
       "      <td>{'@attributes': {'name': 'Wittman, Rob', 'data...</td>\n",
       "    </tr>\n",
       "    <tr>\n",
       "      <th>1</th>\n",
       "      <td>N00048315</td>\n",
       "      <td>{'@attributes': {'name': '', 'data_year': '201...</td>\n",
       "    </tr>\n",
       "    <tr>\n",
       "      <th>2</th>\n",
       "      <td>N00002147</td>\n",
       "      <td>{'@attributes': {'name': 'Scott, Bobby', 'data...</td>\n",
       "    </tr>\n",
       "    <tr>\n",
       "      <th>3</th>\n",
       "      <td>N00051961</td>\n",
       "      <td>{'@attributes': {'name': '', 'data_year': '201...</td>\n",
       "    </tr>\n",
       "    <tr>\n",
       "      <th>4</th>\n",
       "      <td>N00045557</td>\n",
       "      <td>{'@attributes': {'name': '', 'data_year': '201...</td>\n",
       "    </tr>\n",
       "    <tr>\n",
       "      <th>5</th>\n",
       "      <td>N00042296</td>\n",
       "      <td>{'@attributes': {'name': '', 'data_year': '201...</td>\n",
       "    </tr>\n",
       "    <tr>\n",
       "      <th>6</th>\n",
       "      <td>N00041418</td>\n",
       "      <td>{'@attributes': {'name': '', 'data_year': '201...</td>\n",
       "    </tr>\n",
       "    <tr>\n",
       "      <th>7</th>\n",
       "      <td>N00036018</td>\n",
       "      <td>{'@attributes': {'name': '', 'data_year': '201...</td>\n",
       "    </tr>\n",
       "    <tr>\n",
       "      <th>8</th>\n",
       "      <td>N00032029</td>\n",
       "      <td>{'@attributes': {'name': 'Griffith, Morgan', '...</td>\n",
       "    </tr>\n",
       "    <tr>\n",
       "      <th>9</th>\n",
       "      <td>N00041002</td>\n",
       "      <td>{'@attributes': {'name': '', 'data_year': '201...</td>\n",
       "    </tr>\n",
       "    <tr>\n",
       "      <th>10</th>\n",
       "      <td>N00029891</td>\n",
       "      <td>{'@attributes': {'name': 'Connolly, Gerry', 'd...</td>\n",
       "    </tr>\n",
       "    <tr>\n",
       "      <th>11</th>\n",
       "      <td>N00033177</td>\n",
       "      <td>{'@attributes': {'name': '', 'data_year': '201...</td>\n",
       "    </tr>\n",
       "    <tr>\n",
       "      <th>12</th>\n",
       "      <td>N00002097</td>\n",
       "      <td>{'@attributes': {'name': 'Warner, Mark', 'data...</td>\n",
       "    </tr>\n",
       "  </tbody>\n",
       "</table>\n",
       "</div>"
      ],
      "text/plain": [
       "          CID                              Financial Information\n",
       "0   N00029459  {'@attributes': {'name': 'Wittman, Rob', 'data...\n",
       "1   N00048315  {'@attributes': {'name': '', 'data_year': '201...\n",
       "2   N00002147  {'@attributes': {'name': 'Scott, Bobby', 'data...\n",
       "3   N00051961  {'@attributes': {'name': '', 'data_year': '201...\n",
       "4   N00045557  {'@attributes': {'name': '', 'data_year': '201...\n",
       "5   N00042296  {'@attributes': {'name': '', 'data_year': '201...\n",
       "6   N00041418  {'@attributes': {'name': '', 'data_year': '201...\n",
       "7   N00036018  {'@attributes': {'name': '', 'data_year': '201...\n",
       "8   N00032029  {'@attributes': {'name': 'Griffith, Morgan', '...\n",
       "9   N00041002  {'@attributes': {'name': '', 'data_year': '201...\n",
       "10  N00029891  {'@attributes': {'name': 'Connolly, Gerry', 'd...\n",
       "11  N00033177  {'@attributes': {'name': '', 'data_year': '201...\n",
       "12  N00002097  {'@attributes': {'name': 'Warner, Mark', 'data..."
      ]
     },
     "execution_count": 49,
     "metadata": {},
     "output_type": "execute_result"
    }
   ],
   "source": [
    "financial_information = []\n",
    "for i in range(0, len(cids)):\n",
    "    parameters = {'method' : 'memPFDprofile',\n",
    "             'apikey' : opensecretsapi,\n",
    "             'cid' : cids[i],\n",
    "             'output' : 'json'}\n",
    "    r = requests.get(root, params=parameters, headers=headers)\n",
    "    myjson = json.loads(r.text)\n",
    "    data = myjson['response']['member_profile']\n",
    "    financial_information.append({'CID': cids[i], \"Financial Information\": data})\n",
    "    \n",
    "financial_information = pd.DataFrame.from_dict(financial_information)\n",
    "financial_information\n",
    "    "
   ]
  },
  {
   "cell_type": "code",
   "execution_count": null,
   "id": "de70ec20-b209-4d99-b75b-1d409f819a6d",
   "metadata": {},
   "outputs": [],
   "source": []
  }
 ],
 "metadata": {
  "kernelspec": {
   "display_name": "Python 3 (ipykernel)",
   "language": "python",
   "name": "python3"
  },
  "language_info": {
   "codemirror_mode": {
    "name": "ipython",
    "version": 3
   },
   "file_extension": ".py",
   "mimetype": "text/x-python",
   "name": "python",
   "nbconvert_exporter": "python",
   "pygments_lexer": "ipython3",
   "version": "3.11.4"
  }
 },
 "nbformat": 4,
 "nbformat_minor": 5
}
