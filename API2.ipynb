{
 "cells": [
  {
   "cell_type": "code",
   "execution_count": 1,
   "id": "3abfb564-a26c-4cdb-a318-77f0ef57310c",
   "metadata": {},
   "outputs": [],
   "source": [
    "import numpy as np\n",
    "import pandas as pd\n",
    "import requests\n",
    "import os\n",
    "import json"
   ]
  },
  {
   "cell_type": "code",
   "execution_count": 2,
   "id": "d9f109df-e0d3-4262-8a4a-8c23d91d781e",
   "metadata": {},
   "outputs": [],
   "source": [
    "congressapi = os.environ['congressapi']\n",
    "opensecretsapi = os.environ['opensecretsapi']"
   ]
  },
  {
   "cell_type": "markdown",
   "id": "325f1ac7-0195-4f63-b54c-45e07930d528",
   "metadata": {},
   "source": [
    "# Congress Bills API for the 118th Congress"
   ]
  },
  {
   "cell_type": "code",
   "execution_count": 3,
   "id": "7efb0e6d-77a6-4e25-b77f-16a4e17f49c4",
   "metadata": {},
   "outputs": [],
   "source": [
    "root = 'https://api.congress.gov/v3'\n",
    "congress = '118'\n",
    "endpoint = f'/bill/{congress}'"
   ]
  },
  {
   "cell_type": "code",
   "execution_count": 8,
   "id": "a42055a3-ba1c-4154-bec8-4e9e3cbf46d5",
   "metadata": {},
   "outputs": [],
   "source": [
    "parameters = {'format': 'json',\n",
    "             'offset': 0,\n",
    "              'limit': 250,\n",
    "              'sort': 'updateDate+desc',\n",
    "              'api_key': congressapi}"
   ]
  },
  {
   "cell_type": "code",
   "execution_count": 15,
   "id": "a914d646-ccf8-4514-90fd-ae4ebe88c333",
   "metadata": {},
   "outputs": [],
   "source": [
    "r = requests.get('http://httpbin.org/user-agent')\n",
    "useragent = json.loads(r.text)['user-agent']"
   ]
  },
  {
   "cell_type": "code",
   "execution_count": 16,
   "id": "ce991885-368f-4e18-a868-641e705dcc28",
   "metadata": {},
   "outputs": [],
   "source": [
    "headers = {'User-Agent': useragent,\n",
    "          'From': 'pdy2bw@virginia.edu'}"
   ]
  },
  {
   "cell_type": "code",
   "execution_count": 17,
   "id": "240bdb58-32fc-4139-92fb-6fcca5b72846",
   "metadata": {},
   "outputs": [],
   "source": [
    "r = requests.get(root + endpoint,\n",
    "                params = parameters,\n",
    "                headers = headers)"
   ]
  },
  {
   "cell_type": "code",
   "execution_count": 18,
   "id": "8f211180-bf6d-4c47-a924-15eba504085a",
   "metadata": {},
   "outputs": [
    {
     "data": {
      "text/plain": [
       "<Response [200]>"
      ]
     },
     "execution_count": 18,
     "metadata": {},
     "output_type": "execute_result"
    }
   ],
   "source": [
    "r"
   ]
  },
  {
   "cell_type": "code",
   "execution_count": 19,
   "id": "7dc52254-eb80-4434-8880-44f459ffe263",
   "metadata": {},
   "outputs": [],
   "source": [
    "myjson = json.loads(r.text)"
   ]
  },
  {
   "cell_type": "code",
   "execution_count": 24,
   "id": "36a246b0-a3aa-45c9-a587-a41e9121e81c",
   "metadata": {},
   "outputs": [
    {
     "data": {
      "text/plain": [
       "'475'"
      ]
     },
     "execution_count": 24,
     "metadata": {},
     "output_type": "execute_result"
    }
   ],
   "source": [
    "myjson['bills'][0]['number']"
   ]
  },
  {
   "cell_type": "code",
   "execution_count": 26,
   "id": "d567ca0b-fb88-4a72-be5b-d0f1a8c4a6e4",
   "metadata": {},
   "outputs": [],
   "source": [
    "#[x['number'] for x in myjson['bills']]"
   ]
  },
  {
   "cell_type": "code",
   "execution_count": 29,
   "id": "88af1e86-3313-4148-b080-2b5023825a7a",
   "metadata": {},
   "outputs": [],
   "source": [
    "with open('bills.json', 'w') as f:\n",
    "    json.dump(myjson, f)"
   ]
  },
  {
   "cell_type": "code",
   "execution_count": 30,
   "id": "cf6379d5-1312-4401-8b78-50a9cf040365",
   "metadata": {},
   "outputs": [],
   "source": [
    "#can use jsonhero.io to see things easier with non-private info"
   ]
  },
  {
   "cell_type": "code",
   "execution_count": 31,
   "id": "5cb36b79-7c31-4985-8d32-c1b677c3fa36",
   "metadata": {},
   "outputs": [],
   "source": [
    "billsdf = pd.json_normalize(myjson,\n",
    "                           record_path = ['bills'])"
   ]
  },
  {
   "cell_type": "code",
   "execution_count": 32,
   "id": "078a6b55-03c0-4643-9c9e-8b9ab9c9933b",
   "metadata": {},
   "outputs": [],
   "source": [
    "root = 'http://www.opensecrets.org/api/'\n",
    "parameters = {'method' : 'getLegislators',\n",
    "             'apikey' : opensecretsapi,\n",
    "             'id' : 'VA',\n",
    "             'output' : 'json'}"
   ]
  },
  {
   "cell_type": "code",
   "execution_count": 34,
   "id": "586322cd-9f22-4d61-b81a-605a4ad1931a",
   "metadata": {},
   "outputs": [],
   "source": [
    "r = requests.get(root, params=parameters, headers=headers)"
   ]
  },
  {
   "cell_type": "code",
   "execution_count": 35,
   "id": "6dec200a-1471-474a-8018-0eb9b8b266b0",
   "metadata": {},
   "outputs": [
    {
     "data": {
      "text/plain": [
       "<Response [200]>"
      ]
     },
     "execution_count": 35,
     "metadata": {},
     "output_type": "execute_result"
    }
   ],
   "source": [
    "r"
   ]
  },
  {
   "cell_type": "code",
   "execution_count": null,
   "id": "df1420f9-33e8-4628-b038-96374fa473cd",
   "metadata": {},
   "outputs": [],
   "source": []
  }
 ],
 "metadata": {
  "kernelspec": {
   "display_name": "Python 3 (ipykernel)",
   "language": "python",
   "name": "python3"
  },
  "language_info": {
   "codemirror_mode": {
    "name": "ipython",
    "version": 3
   },
   "file_extension": ".py",
   "mimetype": "text/x-python",
   "name": "python",
   "nbconvert_exporter": "python",
   "pygments_lexer": "ipython3",
   "version": "3.11.4"
  }
 },
 "nbformat": 4,
 "nbformat_minor": 5
}
