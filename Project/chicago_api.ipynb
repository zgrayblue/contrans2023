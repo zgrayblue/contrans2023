{
 "cells": [
  {
   "cell_type": "code",
   "execution_count": 6,
   "id": "ffef9014-ca34-46d2-80aa-cbe1f2964051",
   "metadata": {},
   "outputs": [],
   "source": [
    "import numpy as np\n",
    "import pandas as pd\n",
    "import requests\n",
    "import os\n",
    "import json\n",
    "import tarfile\n",
    "import urllib.request as urllib2"
   ]
  },
  {
   "cell_type": "code",
   "execution_count": 7,
   "id": "e0f8a5b6-5b70-42e8-9457-2abe557f2375",
   "metadata": {},
   "outputs": [],
   "source": [
    "r = requests.get('http://httpbin.org/user-agent')\n",
    "useragent = json.loads(r.text)['user-agent']"
   ]
  },
  {
   "cell_type": "code",
   "execution_count": 8,
   "id": "41590dc3-94fd-47b0-835a-91a5198ea209",
   "metadata": {},
   "outputs": [],
   "source": [
    "headers = {'User-Agent': useragent,\n",
    "          'From': 'pdy2bw@virginia.edu',\n",
    "          'AIC-User-Agent': 'MusicArt (pdy2bw@virginia.edu)'}"
   ]
  },
  {
   "cell_type": "code",
   "execution_count": 9,
   "id": "2ec1bfea-6e47-4827-ad5f-9ccaa3e9dbf0",
   "metadata": {},
   "outputs": [],
   "source": [
    "#params = {'page': 1, 'limit': 100}"
   ]
  },
  {
   "cell_type": "code",
   "execution_count": 10,
   "id": "3a69884e-c8ee-4c76-b8cf-0b98bfb1d9d0",
   "metadata": {},
   "outputs": [],
   "source": [
    "tar = tarfile.open('artic-api-data.tar.bz2', mode = 'r:bz2')"
   ]
  },
  {
   "cell_type": "code",
   "execution_count": 11,
   "id": "a47e23b9-d808-431f-a43a-476a9b113f57",
   "metadata": {},
   "outputs": [],
   "source": [
    "tar.extractall()"
   ]
  },
  {
   "cell_type": "code",
   "execution_count": 12,
   "id": "321e2d36-931e-44b8-99d5-1b50842c4880",
   "metadata": {},
   "outputs": [],
   "source": [
    "tar.close()"
   ]
  },
  {
   "cell_type": "code",
   "execution_count": null,
   "id": "5ae47ec2-ed90-4249-9da2-a116f8fd1f30",
   "metadata": {},
   "outputs": [],
   "source": [
    "#use json load (from a file) not loads (s is for string)"
   ]
  },
  {
   "cell_type": "code",
   "execution_count": null,
   "id": "a78d8958-36f9-4bf3-a465-bc1d5eb4fc41",
   "metadata": {},
   "outputs": [],
   "source": []
  }
 ],
 "metadata": {
  "kernelspec": {
   "display_name": "Python 3 (ipykernel)",
   "language": "python",
   "name": "python3"
  },
  "language_info": {
   "codemirror_mode": {
    "name": "ipython",
    "version": 3
   },
   "file_extension": ".py",
   "mimetype": "text/x-python",
   "name": "python",
   "nbconvert_exporter": "python",
   "pygments_lexer": "ipython3",
   "version": "3.11.4"
  }
 },
 "nbformat": 4,
 "nbformat_minor": 5
}
