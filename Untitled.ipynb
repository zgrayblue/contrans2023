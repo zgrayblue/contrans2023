{
 "cells": [
  {
   "cell_type": "code",
   "execution_count": 2,
   "id": "534a5686-8a84-45f5-8548-bd7db131135a",
   "metadata": {},
   "outputs": [],
   "source": [
    "import os\n",
    "mypassword = os.getenv('mypassword')"
   ]
  },
  {
   "cell_type": "code",
   "execution_count": 3,
   "id": "ee06ba67-3e23-43d8-9a73-d4b535315435",
   "metadata": {},
   "outputs": [
    {
     "data": {
      "text/plain": [
       "'bieber4eva'"
      ]
     },
     "execution_count": 3,
     "metadata": {},
     "output_type": "execute_result"
    }
   ],
   "source": [
    "mypassword"
   ]
  },
  {
   "cell_type": "code",
   "execution_count": null,
   "id": "6bdbae9f-7856-4117-aca2-f674c83c0579",
   "metadata": {},
   "outputs": [],
   "source": []
  }
 ],
 "metadata": {
  "kernelspec": {
   "display_name": "contrans2023",
   "language": "python",
   "name": "contrans2023"
  },
  "language_info": {
   "codemirror_mode": {
    "name": "ipython",
    "version": 3
   },
   "file_extension": ".py",
   "mimetype": "text/x-python",
   "name": "python",
   "nbconvert_exporter": "python",
   "pygments_lexer": "ipython3",
   "version": "3.11.4"
  }
 },
 "nbformat": 4,
 "nbformat_minor": 5
}
