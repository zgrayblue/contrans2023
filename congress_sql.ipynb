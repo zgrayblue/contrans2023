{
 "cells": [
  {
   "cell_type": "code",
   "execution_count": 8,
   "id": "b25b45a7-64d6-4394-a7e7-2fe1419bc299",
   "metadata": {},
   "outputs": [],
   "source": [
    "import numpy as np\n",
    "import pandas as pd\n",
    "import os\n",
    "POSTGRES_PASSWORD = os.getenv('POSTGRES_PASSWORD')\n",
    "import psycopg2\n",
    "from sqlalchemy import create_engine"
   ]
  },
  {
   "cell_type": "code",
   "execution_count": 9,
   "id": "9ec999bd-20b4-410d-86a4-db7b201ae311",
   "metadata": {},
   "outputs": [],
   "source": [
    "engine = create_engine('postgresql+psycopg2://{user}:{password}@{host}:{port}/{db}'.format(\n",
    "    user = 'postgres',\n",
    "    password = POSTGRES_PASSWORD,\n",
    "    host = 'postgres',\n",
    "    port = 5432,\n",
    "    db = 'congress'\n",
    "))"
   ]
  },
  {
   "cell_type": "code",
   "execution_count": 12,
   "id": "bd2cead2-23a9-47c7-897e-abc5b2c8c2ca",
   "metadata": {},
   "outputs": [
    {
     "data": {
      "text/plain": [
       "congress                     int64\n",
       "introduceddate              object\n",
       "number                     float64\n",
       "title                       object\n",
       "type                        object\n",
       "url                         object\n",
       "latestaction_actiondate     object\n",
       "latestaction_text           object\n",
       "policyarea_name             object\n",
       "amendmentnumber            float64\n",
       "latestaction                object\n",
       "latestaction_actiontime     object\n",
       "dtype: object"
      ]
     },
     "execution_count": 12,
     "metadata": {},
     "output_type": "execute_result"
    }
   ],
   "source": [
    "myquery = '''\n",
    "SELECT *\n",
    "FROM bills\n",
    "'''\n",
    "\n",
    "pd.read_sql_query(myquery, con=engine).dtypes"
   ]
  },
  {
   "cell_type": "code",
   "execution_count": null,
   "id": "ac77bce0-bb27-435e-a3e4-683dbefc86c7",
   "metadata": {},
   "outputs": [],
   "source": []
  }
 ],
 "metadata": {
  "kernelspec": {
   "display_name": "Python 3 (ipykernel)",
   "language": "python",
   "name": "python3"
  },
  "language_info": {
   "codemirror_mode": {
    "name": "ipython",
    "version": 3
   },
   "file_extension": ".py",
   "mimetype": "text/x-python",
   "name": "python",
   "nbconvert_exporter": "python",
   "pygments_lexer": "ipython3",
   "version": "3.11.4"
  }
 },
 "nbformat": 4,
 "nbformat_minor": 5
}
