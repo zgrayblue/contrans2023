{
 "cells": [
  {
   "cell_type": "code",
   "execution_count": 2,
   "id": "f7a2f44c-fc31-480c-8a91-2bfb7e7e0e51",
   "metadata": {},
   "outputs": [],
   "source": [
    "import numpy as np\n",
    "import pandas as pd\n",
    "import dash\n",
    "from dash import dcc\n",
    "from dash import html\n",
    "from dash.dependencies import Input, Output\n",
    "from sqlalchemy import create_engine\n",
    "import psycopg2\n",
    "import os\n",
    "import plotly.figure_factory as ff\n",
    "POSTGRES_PASSWORD = os.getenv('POSTGRES_PASSWORD')"
   ]
  },
  {
   "cell_type": "code",
   "execution_count": 3,
   "id": "4ada9658-4f08-4223-a08e-2115b2ec21b7",
   "metadata": {},
   "outputs": [],
   "source": [
    "import plotly.express as px"
   ]
  },
  {
   "cell_type": "code",
   "execution_count": 4,
   "id": "002764ab-c5fd-4846-a69c-7a4af5449334",
   "metadata": {},
   "outputs": [],
   "source": [
    "engine = create_engine('postgresql+psycopg2://{user}:{password}@{host}:{port}/{db}'.format(\n",
    "    user = 'postgres',\n",
    "    password = POSTGRES_PASSWORD,\n",
    "    host = 'postgres',\n",
    "    port = 5432,\n",
    "    db = 'congress'\n",
    "))"
   ]
  },
  {
   "cell_type": "code",
   "execution_count": 5,
   "id": "9c966b52-310e-46ab-91ed-244b74dab08b",
   "metadata": {
    "scrolled": true
   },
   "outputs": [
    {
     "data": {
      "text/plain": [
       "[{'label': 'Alma S. Adams', 'value': 'A000370'},\n",
       " {'label': 'Robert B. Aderholt', 'value': 'A000055'},\n",
       " {'label': 'Pete Aguilar', 'value': 'A000371'},\n",
       " {'label': 'Mark Alford', 'value': 'A000379'},\n",
       " {'label': 'Rick W. Allen', 'value': 'A000372'},\n",
       " {'label': 'Colin Z. Allred', 'value': 'A000376'},\n",
       " {'label': 'Mark E. Amodei', 'value': 'A000369'},\n",
       " {'label': 'Kelly Armstrong', 'value': 'A000377'},\n",
       " {'label': 'Jodey C. Arrington', 'value': 'A000375'},\n",
       " {'label': 'Jake Auchincloss', 'value': 'A000148'},\n",
       " {'label': 'Brian Babin', 'value': 'B001291'},\n",
       " {'label': 'Don Bacon', 'value': 'B001298'},\n",
       " {'label': 'James R. Baird', 'value': 'B001307'},\n",
       " {'label': 'Troy Balderson', 'value': 'B001306'},\n",
       " {'label': 'Tammy Baldwin', 'value': 'B001230'},\n",
       " {'label': 'Becca Balint', 'value': 'B001318'},\n",
       " {'label': 'Jim Banks', 'value': 'B001299'},\n",
       " {'label': 'Andy Barr', 'value': 'B001282'},\n",
       " {'label': 'Nanette Diaz Barragan', 'value': 'B001300'},\n",
       " {'label': 'John Barrasso', 'value': 'B001261'},\n",
       " {'label': 'Aaron Bean', 'value': 'B001314'},\n",
       " {'label': 'Joyce Beatty', 'value': 'B001281'},\n",
       " {'label': 'Michael F. Bennet', 'value': 'B001267'},\n",
       " {'label': 'Cliff Bentz', 'value': 'B000668'},\n",
       " {'label': 'Ami Bera', 'value': 'B001287'},\n",
       " {'label': 'Jack Bergman', 'value': 'B001301'},\n",
       " {'label': 'Donald S. Beyer, Jr.', 'value': 'B001292'},\n",
       " {'label': 'Stephanie I. Bice', 'value': 'B000740'},\n",
       " {'label': 'Andy Biggs', 'value': 'B001302'},\n",
       " {'label': 'Gus M. Bilirakis', 'value': 'B001257'},\n",
       " {'label': 'Dan Bishop', 'value': 'B001311'},\n",
       " {'label': 'Sanford D. Bishop, Jr.', 'value': 'B000490'},\n",
       " {'label': 'Marsha Blackburn', 'value': 'B001243'},\n",
       " {'label': 'Earl Blumenauer', 'value': 'B000574'},\n",
       " {'label': 'Richard Blumenthal', 'value': 'B001277'},\n",
       " {'label': 'Lisa Blunt Rochester', 'value': 'B001303'},\n",
       " {'label': 'Lauren Boebert', 'value': 'B000825'},\n",
       " {'label': 'Suzanne Bonamici', 'value': 'B001278'},\n",
       " {'label': 'Cory A. Booker', 'value': 'B001288'},\n",
       " {'label': 'John Boozman', 'value': 'B001236'},\n",
       " {'label': 'Mike Bost', 'value': 'B001295'},\n",
       " {'label': 'Jamaal Bowman', 'value': 'B001223'},\n",
       " {'label': 'Brendan F. Boyle', 'value': 'B001296'},\n",
       " {'label': 'Mike Braun', 'value': 'B001310'},\n",
       " {'label': 'Josh Brecheen', 'value': 'B001317'},\n",
       " {'label': 'Katie Boyd Britt', 'value': 'B001319'},\n",
       " {'label': 'Shontel M. Brown', 'value': 'B001313'},\n",
       " {'label': 'Sherrod Brown', 'value': 'B000944'},\n",
       " {'label': 'Julia Brownley', 'value': 'B001285'},\n",
       " {'label': 'Vern Buchanan', 'value': 'B001260'},\n",
       " {'label': 'Ken Buck', 'value': 'B001297'},\n",
       " {'label': 'Larry Bucshon', 'value': 'B001275'},\n",
       " {'label': 'Ted Budd', 'value': 'B001305'},\n",
       " {'label': 'Nikki Budzinski', 'value': 'B001315'},\n",
       " {'label': 'Tim Burchett', 'value': 'B001309'},\n",
       " {'label': 'Michael C. Burgess', 'value': 'B001248'},\n",
       " {'label': 'Eric Burlison', 'value': 'B001316'},\n",
       " {'label': 'Cori Bush', 'value': 'B001224'},\n",
       " {'label': 'Ken Calvert', 'value': 'C000059'},\n",
       " {'label': 'Kat Cammack', 'value': 'C001039'},\n",
       " {'label': 'Maria Cantwell', 'value': 'C000127'},\n",
       " {'label': 'Shelley Moore Capito', 'value': 'C001047'},\n",
       " {'label': 'Yadira Caraveo', 'value': 'C001134'},\n",
       " {'label': 'Salud O. Carbajal', 'value': 'C001112'},\n",
       " {'label': 'Tony Cárdenas', 'value': 'C001097'},\n",
       " {'label': 'Benjamin L. Cardin', 'value': 'C000141'},\n",
       " {'label': 'Mike Carey', 'value': 'C001126'},\n",
       " {'label': 'Jerry L. Carl', 'value': 'C001054'},\n",
       " {'label': 'Thomas R. Carper', 'value': 'C000174'},\n",
       " {'label': 'Andre Carson', 'value': 'C001072'},\n",
       " {'label': 'Earl L. \"Buddy\" Carter', 'value': 'C001103'},\n",
       " {'label': 'Troy Carter', 'value': 'C001125'},\n",
       " {'label': 'John R. Carter', 'value': 'C001051'},\n",
       " {'label': 'Matt Cartwright', 'value': 'C001090'},\n",
       " {'label': 'Greg Casar', 'value': 'C001131'},\n",
       " {'label': 'Ed Case', 'value': 'C001055'},\n",
       " {'label': 'Robert P. Casey Jr.', 'value': 'C001070'},\n",
       " {'label': 'Bill Cassidy', 'value': 'C001075'},\n",
       " {'label': 'Sean Casten', 'value': 'C001117'},\n",
       " {'label': 'Kathy Castor', 'value': 'C001066'},\n",
       " {'label': 'Joaquin Castro', 'value': 'C001091'},\n",
       " {'label': 'Lori Chavez-DeRemer', 'value': 'C001135'},\n",
       " {'label': 'Sheila Cherfilus-McCormick', 'value': 'C001127'},\n",
       " {'label': 'Judy Chu', 'value': 'C001080'},\n",
       " {'label': 'Juan Ciscomani', 'value': 'C001133'},\n",
       " {'label': 'Katherine M. Clark', 'value': 'C001101'},\n",
       " {'label': 'Yvette D. Clarke', 'value': 'C001067'},\n",
       " {'label': 'Emanuel Cleaver', 'value': 'C001061'},\n",
       " {'label': 'Ben Cline', 'value': 'C001118'},\n",
       " {'label': 'Michael Cloud', 'value': 'C001115'},\n",
       " {'label': 'James E. Clyburn', 'value': 'C000537'},\n",
       " {'label': 'Andrew S. Clyde', 'value': 'C001116'},\n",
       " {'label': 'Steve Cohen', 'value': 'C001068'},\n",
       " {'label': 'Tom Cole', 'value': 'C001053'},\n",
       " {'label': 'Susan M. Collins', 'value': 'C001035'},\n",
       " {'label': 'James Comer', 'value': 'C001108'},\n",
       " {'label': 'Gerald E. Connolly', 'value': 'C001078'},\n",
       " {'label': 'Christopher A. Coons', 'value': 'C001088'},\n",
       " {'label': 'John Cornyn', 'value': 'C001056'},\n",
       " {'label': 'J. Luis Correa', 'value': 'C001110'},\n",
       " {'label': 'Catherine Cortez Masto', 'value': 'C001113'},\n",
       " {'label': 'Jim Costa', 'value': 'C001059'},\n",
       " {'label': 'Tom Cotton', 'value': 'C001095'},\n",
       " {'label': 'Joe Courtney', 'value': 'C001069'},\n",
       " {'label': 'Angie Craig', 'value': 'C001119'},\n",
       " {'label': 'Kevin Cramer', 'value': 'C001096'},\n",
       " {'label': 'Elijah Crane', 'value': 'C001132'},\n",
       " {'label': 'Mike Crapo', 'value': 'C000880'},\n",
       " {'label': 'Eric A. \"Rick\" Crawford', 'value': 'C001087'},\n",
       " {'label': 'Dan Crenshaw', 'value': 'C001120'},\n",
       " {'label': 'Jasmine Crockett', 'value': 'C001130'},\n",
       " {'label': 'Jason Crow', 'value': 'C001121'},\n",
       " {'label': 'Ted Cruz', 'value': 'C001098'},\n",
       " {'label': 'Henry Cuellar', 'value': 'C001063'},\n",
       " {'label': 'John R. Curtis', 'value': 'C001114'},\n",
       " {'label': 'Steve Daines', 'value': 'D000618'},\n",
       " {'label': 'Sharice Davids', 'value': 'D000629'},\n",
       " {'label': 'Warren Davidson', 'value': 'D000626'},\n",
       " {'label': 'Donald G. Davis', 'value': 'D000230'},\n",
       " {'label': 'Danny K. Davis', 'value': 'D000096'},\n",
       " {'label': 'Madeleine Dean', 'value': 'D000631'},\n",
       " {'label': 'Diana DeGette', 'value': 'D000197'},\n",
       " {'label': 'Monica De La Cruz', 'value': 'D000594'},\n",
       " {'label': 'Rosa L. DeLauro', 'value': 'D000216'},\n",
       " {'label': 'Suzan K. DelBene', 'value': 'D000617'},\n",
       " {'label': 'Christopher R. Deluzio', 'value': 'D000530'},\n",
       " {'label': 'Mark DeSaulnier', 'value': 'D000623'},\n",
       " {'label': 'Scott DesJarlais', 'value': 'D000616'},\n",
       " {'label': \"Anthony D'Esposito\", 'value': 'D000632'},\n",
       " {'label': 'Mario Diaz-Balart', 'value': 'D000600'},\n",
       " {'label': 'Debbie Dingell', 'value': 'D000624'},\n",
       " {'label': 'Lloyd Doggett', 'value': 'D000399'},\n",
       " {'label': 'Byron Donalds', 'value': 'D000032'},\n",
       " {'label': 'John S. Duarte', 'value': 'D000633'},\n",
       " {'label': 'Tammy Duckworth', 'value': 'D000622'},\n",
       " {'label': 'Jeff Duncan', 'value': 'D000615'},\n",
       " {'label': 'Neal P. Dunn', 'value': 'D000628'},\n",
       " {'label': 'Richard J. Durbin', 'value': 'D000563'},\n",
       " {'label': 'Chuck Edwards', 'value': 'E000246'},\n",
       " {'label': 'Jake Ellzey', 'value': 'E000071'},\n",
       " {'label': 'Tom Emmer', 'value': 'E000294'},\n",
       " {'label': 'Joni Ernst', 'value': 'E000295'},\n",
       " {'label': 'Veronica Escobar', 'value': 'E000299'},\n",
       " {'label': 'Anna G. Eshoo', 'value': 'E000215'},\n",
       " {'label': 'Adriano Espaillat', 'value': 'E000297'},\n",
       " {'label': 'Ron Estes', 'value': 'E000298'},\n",
       " {'label': 'Dwight Evans', 'value': 'E000296'},\n",
       " {'label': 'Mike Ezell', 'value': 'E000235'},\n",
       " {'label': 'Pat Fallon', 'value': 'F000246'},\n",
       " {'label': 'Randy Feenstra', 'value': 'F000446'},\n",
       " {'label': 'A. Drew Ferguson IV', 'value': 'F000465'},\n",
       " {'label': 'John Fetterman', 'value': 'F000479'},\n",
       " {'label': 'Brad Finstad', 'value': 'F000475'},\n",
       " {'label': 'Michelle Fischbach', 'value': 'F000470'},\n",
       " {'label': 'Deb Fischer', 'value': 'F000463'},\n",
       " {'label': 'Scott Fitzgerald', 'value': 'F000471'},\n",
       " {'label': 'Brian K. Fitzpatrick', 'value': 'F000466'},\n",
       " {'label': 'Charles J. \"Chuck\" Fleischmann', 'value': 'F000459'},\n",
       " {'label': 'Lizzie Fletcher', 'value': 'F000468'},\n",
       " {'label': 'Mike Flood', 'value': 'F000474'},\n",
       " {'label': 'Bill Foster', 'value': 'F000454'},\n",
       " {'label': 'Valerie P. Foushee', 'value': 'F000477'},\n",
       " {'label': 'Virginia Foxx', 'value': 'F000450'},\n",
       " {'label': 'Lois Frankel', 'value': 'F000462'},\n",
       " {'label': 'C. Scott Franklin', 'value': 'F000472'},\n",
       " {'label': 'Maxwell Frost', 'value': 'F000476'},\n",
       " {'label': 'Russell Fry', 'value': 'F000478'},\n",
       " {'label': 'Russ Fulcher', 'value': 'F000469'},\n",
       " {'label': 'Matt Gaetz', 'value': 'G000578'},\n",
       " {'label': 'Mike Gallagher', 'value': 'G000579'},\n",
       " {'label': 'Ruben Gallego', 'value': 'G000574'},\n",
       " {'label': 'John Garamendi', 'value': 'G000559'},\n",
       " {'label': 'Andrew R. Garbarino', 'value': 'G000597'},\n",
       " {'label': 'Jesus G. \"Chuy\" Garcia', 'value': 'G000586'},\n",
       " {'label': 'Mike Garcia', 'value': 'G000061'},\n",
       " {'label': 'Robert Garcia', 'value': 'G000598'},\n",
       " {'label': 'Sylvia R. Garcia', 'value': 'G000587'},\n",
       " {'label': 'Kirsten E. Gillibrand', 'value': 'G000555'},\n",
       " {'label': 'Carlos A. Gimenez', 'value': 'G000593'},\n",
       " {'label': 'Jared F. Golden', 'value': 'G000592'},\n",
       " {'label': 'Daniel S. Goldman', 'value': 'G000599'},\n",
       " {'label': 'Jimmy Gomez', 'value': 'G000585'},\n",
       " {'label': 'Tony Gonzales', 'value': 'G000594'},\n",
       " {'label': 'Vicente Gonzalez', 'value': 'G000581'},\n",
       " {'label': 'Bob Good', 'value': 'G000595'},\n",
       " {'label': 'Lance Gooden', 'value': 'G000589'},\n",
       " {'label': 'Paul A. Gosar', 'value': 'G000565'},\n",
       " {'label': 'Josh Gottheimer', 'value': 'G000583'},\n",
       " {'label': 'Lindsey Graham', 'value': 'G000359'},\n",
       " {'label': 'Kay Granger', 'value': 'G000377'},\n",
       " {'label': 'Chuck Grassley', 'value': 'G000386'},\n",
       " {'label': 'Garret Graves', 'value': 'G000577'},\n",
       " {'label': 'Sam Graves', 'value': 'G000546'},\n",
       " {'label': 'Al Green', 'value': 'G000553'},\n",
       " {'label': 'Mark E. Green', 'value': 'G000590'},\n",
       " {'label': 'Marjorie Taylor Greene', 'value': 'G000596'},\n",
       " {'label': 'H. Morgan Griffith', 'value': 'G000568'},\n",
       " {'label': 'Glenn Grothman', 'value': 'G000576'},\n",
       " {'label': 'Michael Guest', 'value': 'G000591'},\n",
       " {'label': 'Brett Guthrie', 'value': 'G000558'},\n",
       " {'label': 'Harriet M. Hageman', 'value': 'H001096'},\n",
       " {'label': 'Bill Hagerty', 'value': 'H000601'},\n",
       " {'label': 'Josh Harder', 'value': 'H001090'},\n",
       " {'label': 'Andy Harris', 'value': 'H001052'},\n",
       " {'label': 'Diana Harshbarger', 'value': 'H001086'},\n",
       " {'label': 'Margaret Wood Hassan', 'value': 'H001076'},\n",
       " {'label': 'Josh Hawley', 'value': 'H001089'},\n",
       " {'label': 'Jahana Hayes', 'value': 'H001081'},\n",
       " {'label': 'Martin Heinrich', 'value': 'H001046'},\n",
       " {'label': 'Kevin Hern', 'value': 'H001082'},\n",
       " {'label': 'John W. Hickenlooper', 'value': 'H000273'},\n",
       " {'label': 'Clay Higgins', 'value': 'H001077'},\n",
       " {'label': 'Brian Higgins', 'value': 'H001038'},\n",
       " {'label': 'J. French Hill', 'value': 'H001072'},\n",
       " {'label': 'James A. Himes', 'value': 'H001047'},\n",
       " {'label': 'Ashley Hinson', 'value': 'H001091'},\n",
       " {'label': 'Mazie K. Hirono', 'value': 'H001042'},\n",
       " {'label': 'John Hoeven', 'value': 'H001061'},\n",
       " {'label': 'Steven Horsford', 'value': 'H001066'},\n",
       " {'label': 'Erin Houchin', 'value': 'H001093'},\n",
       " {'label': 'Chrissy Houlahan', 'value': 'H001085'},\n",
       " {'label': 'Steny H. Hoyer', 'value': 'H000874'},\n",
       " {'label': 'Val T. Hoyle', 'value': 'H001094'},\n",
       " {'label': 'Richard Hudson', 'value': 'H001067'},\n",
       " {'label': 'Jared Huffman', 'value': 'H001068'},\n",
       " {'label': 'Bill Huizenga', 'value': 'H001058'},\n",
       " {'label': 'Wesley Hunt', 'value': 'H001095'},\n",
       " {'label': 'Cindy Hyde-Smith', 'value': 'H001079'},\n",
       " {'label': 'Darrell E. Issa', 'value': 'I000056'},\n",
       " {'label': 'Glenn Ivey', 'value': 'I000058'},\n",
       " {'label': 'Jeff Jackson', 'value': 'J000308'},\n",
       " {'label': 'Ronny Jackson', 'value': 'J000304'},\n",
       " {'label': 'Jonathan L. Jackson', 'value': 'J000309'},\n",
       " {'label': 'Sheila Jackson Lee', 'value': 'J000032'},\n",
       " {'label': 'Sara Jacobs', 'value': 'J000305'},\n",
       " {'label': 'John James', 'value': 'J000307'},\n",
       " {'label': 'Pramila Jayapal', 'value': 'J000298'},\n",
       " {'label': 'Hakeem S. Jeffries', 'value': 'J000294'},\n",
       " {'label': 'Henry C. \"Hank\" Johnson, Jr.', 'value': 'J000288'},\n",
       " {'label': 'Dusty Johnson', 'value': 'J000301'},\n",
       " {'label': 'Ron Johnson', 'value': 'J000293'},\n",
       " {'label': 'Mike Johnson', 'value': 'J000299'},\n",
       " {'label': 'Bill Johnson', 'value': 'J000292'},\n",
       " {'label': 'Jim Jordan', 'value': 'J000289'},\n",
       " {'label': 'David P. Joyce', 'value': 'J000295'},\n",
       " {'label': 'John Joyce', 'value': 'J000302'},\n",
       " {'label': 'Tim Kaine', 'value': 'K000384'},\n",
       " {'label': 'Sydney Kamlager-Dove', 'value': 'K000400'},\n",
       " {'label': 'Marcy Kaptur', 'value': 'K000009'},\n",
       " {'label': 'Thomas H. Kean, Jr.', 'value': 'K000398'},\n",
       " {'label': 'William R. Keating', 'value': 'K000375'},\n",
       " {'label': 'Mark Kelly', 'value': 'K000377'},\n",
       " {'label': 'Robin L. Kelly', 'value': 'K000385'},\n",
       " {'label': 'Trent Kelly', 'value': 'K000388'},\n",
       " {'label': 'Mike Kelly', 'value': 'K000376'},\n",
       " {'label': 'John Kennedy', 'value': 'K000393'},\n",
       " {'label': 'Ro Khanna', 'value': 'K000389'},\n",
       " {'label': 'Jennifer Kiggans', 'value': 'K000399'},\n",
       " {'label': 'Daniel T. Kildee', 'value': 'K000380'},\n",
       " {'label': 'Kevin Kiley', 'value': 'K000401'},\n",
       " {'label': 'Derek Kilmer', 'value': 'K000381'},\n",
       " {'label': 'Young Kim', 'value': 'K000397'},\n",
       " {'label': 'Andy Kim', 'value': 'K000394'},\n",
       " {'label': 'Angus S. King Jr.', 'value': 'K000383'},\n",
       " {'label': 'Amy Klobuchar', 'value': 'K000367'},\n",
       " {'label': 'Raja Krishnamoorthi', 'value': 'K000391'},\n",
       " {'label': 'Ann M. Kuster', 'value': 'K000382'},\n",
       " {'label': 'David Kustoff', 'value': 'K000392'},\n",
       " {'label': 'Darin LaHood', 'value': 'L000585'},\n",
       " {'label': 'Nick LaLota', 'value': 'L000598'},\n",
       " {'label': 'Doug LaMalfa', 'value': 'L000578'},\n",
       " {'label': 'Doug Lamborn', 'value': 'L000564'},\n",
       " {'label': 'Greg Landsman', 'value': 'L000601'},\n",
       " {'label': 'Nicholas A. Langworthy', 'value': 'L000600'},\n",
       " {'label': 'James Lankford', 'value': 'L000575'},\n",
       " {'label': 'Rick Larsen', 'value': 'L000560'},\n",
       " {'label': 'John B. Larson', 'value': 'L000557'},\n",
       " {'label': 'Robert E. Latta', 'value': 'L000566'},\n",
       " {'label': 'Jake LaTurner', 'value': 'L000266'},\n",
       " {'label': 'Michael Lawler', 'value': 'L000599'},\n",
       " {'label': 'Susie Lee', 'value': 'L000590'},\n",
       " {'label': 'Mike Lee', 'value': 'L000577'},\n",
       " {'label': 'Laurel M. Lee', 'value': 'L000597'},\n",
       " {'label': 'Summer L. Lee', 'value': 'L000602'},\n",
       " {'label': 'Barbara Lee', 'value': 'L000551'},\n",
       " {'label': 'Teresa Leger Fernandez', 'value': 'L000273'},\n",
       " {'label': 'Debbie Lesko', 'value': 'L000589'},\n",
       " {'label': 'Julia Letlow', 'value': 'L000595'},\n",
       " {'label': 'Mike Levin', 'value': 'L000593'},\n",
       " {'label': 'Ted Lieu', 'value': 'L000582'},\n",
       " {'label': 'Zoe Lofgren', 'value': 'L000397'},\n",
       " {'label': 'Barry Loudermilk', 'value': 'L000583'},\n",
       " {'label': 'Frank D. Lucas', 'value': 'L000491'},\n",
       " {'label': 'Blaine Luetkemeyer', 'value': 'L000569'},\n",
       " {'label': 'Ben Ray Lujan', 'value': 'L000570'},\n",
       " {'label': 'Cynthia M. Lummis', 'value': 'L000571'},\n",
       " {'label': 'Anna Paulina Luna', 'value': 'L000596'},\n",
       " {'label': 'Morgan Luttrell', 'value': 'L000603'},\n",
       " {'label': 'Stephen F. Lynch', 'value': 'L000562'},\n",
       " {'label': 'Nancy Mace', 'value': 'M000194'},\n",
       " {'label': 'Seth Magaziner', 'value': 'M001223'},\n",
       " {'label': 'Nicole Malliotakis', 'value': 'M000317'},\n",
       " {'label': 'Joe Manchin III', 'value': 'M001183'},\n",
       " {'label': 'Tracey Mann', 'value': 'M000871'},\n",
       " {'label': 'Kathy E. Manning', 'value': 'M001135'},\n",
       " {'label': 'Edward J. Markey', 'value': 'M000133'},\n",
       " {'label': 'Roger Marshall', 'value': 'M001198'},\n",
       " {'label': 'Thomas Massie', 'value': 'M001184'},\n",
       " {'label': 'Brian J. Mast', 'value': 'M001199'},\n",
       " {'label': 'Doris O. Matsui', 'value': 'M001163'},\n",
       " {'label': 'Lucy McBath', 'value': 'M001208'},\n",
       " {'label': 'Kevin McCarthy', 'value': 'M001165'},\n",
       " {'label': 'Michael T. McCaul', 'value': 'M001157'},\n",
       " {'label': 'Lisa C. McClain', 'value': 'M001136'},\n",
       " {'label': 'Jennifer L. McClellan', 'value': 'M001227'},\n",
       " {'label': 'Tom McClintock', 'value': 'M001177'},\n",
       " {'label': 'Betty McCollum', 'value': 'M001143'},\n",
       " {'label': 'Mitch McConnell', 'value': 'M000355'},\n",
       " {'label': 'Richard McCormick', 'value': 'M001218'},\n",
       " {'label': 'Morgan McGarvey', 'value': 'M001220'},\n",
       " {'label': 'James P. McGovern', 'value': 'M000312'},\n",
       " {'label': 'Patrick T. McHenry', 'value': 'M001156'},\n",
       " {'label': 'Gregory W. Meeks', 'value': 'M001137'},\n",
       " {'label': 'Robert Menendez', 'value': 'M000639'},\n",
       " {'label': 'Robert Menendez', 'value': 'M001226'},\n",
       " {'label': 'Grace Meng', 'value': 'M001188'},\n",
       " {'label': 'Jeff Merkley', 'value': 'M001176'},\n",
       " {'label': 'Daniel Meuser', 'value': 'M001204'},\n",
       " {'label': 'Kweisi Mfume', 'value': 'M000687'},\n",
       " {'label': 'Max L. Miller', 'value': 'M001222'},\n",
       " {'label': 'Mary E. Miller', 'value': 'M001211'},\n",
       " {'label': 'Carol D. Miller', 'value': 'M001205'},\n",
       " {'label': 'Mariannette Miller-Meeks', 'value': 'M001215'},\n",
       " {'label': 'Cory Mills', 'value': 'M001216'},\n",
       " {'label': 'Marcus J. Molinaro', 'value': 'M001221'},\n",
       " {'label': 'John R. Moolenaar', 'value': 'M001194'},\n",
       " {'label': 'Alexander X. Mooney', 'value': 'M001195'},\n",
       " {'label': 'Blake D. Moore', 'value': 'M001213'},\n",
       " {'label': 'Barry Moore', 'value': 'M001212'},\n",
       " {'label': 'Gwen Moore', 'value': 'M001160'},\n",
       " {'label': 'Jerry Moran', 'value': 'M000934'},\n",
       " {'label': 'Nathaniel Moran', 'value': 'M001224'},\n",
       " {'label': 'Joseph D. Morelle', 'value': 'M001206'},\n",
       " {'label': 'Jared Moskowitz', 'value': 'M001217'},\n",
       " {'label': 'Seth Moulton', 'value': 'M001196'},\n",
       " {'label': 'Frank J. Mrvan', 'value': 'M001214'},\n",
       " {'label': 'Markwayne Mullin', 'value': 'M001190'},\n",
       " {'label': 'Kevin Mullin', 'value': 'M001225'},\n",
       " {'label': 'Lisa Murkowski', 'value': 'M001153'},\n",
       " {'label': 'Christopher Murphy', 'value': 'M001169'},\n",
       " {'label': 'Gregory Murphy', 'value': 'M001210'},\n",
       " {'label': 'Patty Murray', 'value': 'M001111'},\n",
       " {'label': 'Jerrold Nadler', 'value': 'N000002'},\n",
       " {'label': 'Grace F. Napolitano', 'value': 'N000179'},\n",
       " {'label': 'Richard E. Neal', 'value': 'N000015'},\n",
       " {'label': 'Joe Neguse', 'value': 'N000191'},\n",
       " {'label': 'Troy E. Nehls', 'value': 'N000026'},\n",
       " {'label': 'Dan Newhouse', 'value': 'N000189'},\n",
       " {'label': 'Wiley Nickel', 'value': 'N000194'},\n",
       " {'label': 'Donald Norcross', 'value': 'N000188'},\n",
       " {'label': 'Ralph Norman', 'value': 'N000190'},\n",
       " {'label': 'Zachary Nunn', 'value': 'N000193'},\n",
       " {'label': 'Jay Obernolte', 'value': 'O000019'},\n",
       " {'label': 'Alexandria Ocasio-Cortez', 'value': 'O000172'},\n",
       " {'label': 'Andrew Ogles', 'value': 'O000175'},\n",
       " {'label': 'Ilhan Omar', 'value': 'O000173'},\n",
       " {'label': 'Jon Ossoff', 'value': 'O000174'},\n",
       " {'label': 'Burgess Owens', 'value': 'O000086'},\n",
       " {'label': 'Alex Padilla', 'value': 'P000145'},\n",
       " {'label': 'Frank Pallone, Jr.', 'value': 'P000034'},\n",
       " {'label': 'Gary J. Palmer', 'value': 'P000609'},\n",
       " {'label': 'Jimmy Panetta', 'value': 'P000613'},\n",
       " {'label': 'Chris Pappas', 'value': 'P000614'},\n",
       " {'label': 'Bill Pascrell, Jr.', 'value': 'P000096'},\n",
       " {'label': 'Rand Paul', 'value': 'P000603'},\n",
       " {'label': 'Donald M. Payne, Jr.', 'value': 'P000604'},\n",
       " {'label': 'Nancy Pelosi', 'value': 'P000197'},\n",
       " {'label': 'Mary Sattler Peltola', 'value': 'P000619'},\n",
       " {'label': 'Greg Pence', 'value': 'P000615'},\n",
       " {'label': 'Marie Gluesenkamp Perez', 'value': 'G000600'},\n",
       " {'label': 'Scott Perry', 'value': 'P000605'},\n",
       " {'label': 'Gary C. Peters', 'value': 'P000595'},\n",
       " {'label': 'Scott H. Peters', 'value': 'P000608'},\n",
       " {'label': 'Brittany Pettersen', 'value': 'P000620'},\n",
       " {'label': 'August Pfluger', 'value': 'P000048'},\n",
       " {'label': 'Dean Phillips', 'value': 'P000616'},\n",
       " {'label': 'Chellie Pingree', 'value': 'P000597'},\n",
       " {'label': 'Mark Pocan', 'value': 'P000607'},\n",
       " {'label': 'Katie Porter', 'value': 'P000618'},\n",
       " {'label': 'Bill Posey', 'value': 'P000599'},\n",
       " {'label': 'Ayanna Pressley', 'value': 'P000617'},\n",
       " {'label': 'Mike Quigley', 'value': 'Q000023'},\n",
       " {'label': 'Delia C. Ramirez', 'value': 'R000617'},\n",
       " {'label': 'Jamie Raskin', 'value': 'R000606'},\n",
       " {'label': 'Jack Reed', 'value': 'R000122'},\n",
       " {'label': 'Guy Reschenthaler', 'value': 'R000610'},\n",
       " {'label': 'Pete Ricketts', 'value': 'R000618'},\n",
       " {'label': 'James E. Risch', 'value': 'R000584'},\n",
       " {'label': 'Cathy McMorris Rodgers', 'value': 'M001159'},\n",
       " {'label': 'Mike Rogers', 'value': 'R000575'},\n",
       " {'label': 'Harold Rogers', 'value': 'R000395'},\n",
       " {'label': 'Mitt Romney', 'value': 'R000615'},\n",
       " {'label': 'John W. Rose', 'value': 'R000612'},\n",
       " {'label': 'Jacky Rosen', 'value': 'R000608'},\n",
       " {'label': 'Matthew M. Rosendale Sr.', 'value': 'R000103'},\n",
       " {'label': 'Deborah K. Ross', 'value': 'R000305'},\n",
       " {'label': 'Mike Rounds', 'value': 'R000605'},\n",
       " {'label': 'David Rouzer', 'value': 'R000603'},\n",
       " {'label': 'Chip Roy', 'value': 'R000614'},\n",
       " {'label': 'Marco Rubio', 'value': 'R000595'},\n",
       " {'label': 'Raul Ruiz', 'value': 'R000599'},\n",
       " {'label': 'C. A. Dutch Ruppersberger', 'value': 'R000576'},\n",
       " {'label': 'John H. Rutherford', 'value': 'R000609'},\n",
       " {'label': 'Patrick Ryan', 'value': 'R000579'},\n",
       " {'label': 'Maria Elvira Salazar', 'value': 'S000168'},\n",
       " {'label': 'Andrea Salinas', 'value': 'S001226'},\n",
       " {'label': 'Linda T. Sánchez', 'value': 'S001156'},\n",
       " {'label': 'Bernard Sanders', 'value': 'S000033'},\n",
       " {'label': 'George Santos', 'value': 'S001222'},\n",
       " {'label': 'John P. Sarbanes', 'value': 'S001168'},\n",
       " {'label': 'Steve Scalise', 'value': 'S001176'},\n",
       " {'label': 'Mary Gay Scanlon', 'value': 'S001205'},\n",
       " {'label': 'Janice D. Schakowsky', 'value': 'S001145'},\n",
       " {'label': 'Brian Schatz', 'value': 'S001194'},\n",
       " {'label': 'Adam B. Schiff', 'value': 'S001150'},\n",
       " {'label': 'Eric Schmitt', 'value': 'S001227'},\n",
       " {'label': 'Bradley Scott Schneider', 'value': 'S001190'},\n",
       " {'label': 'Hillary J. Scholten', 'value': 'S001221'},\n",
       " {'label': 'Kim Schrier', 'value': 'S001216'},\n",
       " {'label': 'Charles E. Schumer', 'value': 'S000148'},\n",
       " {'label': 'David Schweikert', 'value': 'S001183'},\n",
       " {'label': 'David Scott', 'value': 'S001157'},\n",
       " {'label': 'Austin Scott', 'value': 'S001189'},\n",
       " {'label': 'Rick Scott', 'value': 'S001217'},\n",
       " {'label': 'Robert C. \"Bobby\" Scott', 'value': 'S000185'},\n",
       " {'label': 'Tim Scott', 'value': 'S001184'},\n",
       " {'label': 'Keith Self', 'value': 'S001224'},\n",
       " {'label': 'Pete Sessions', 'value': 'S000250'},\n",
       " {'label': 'Terri A. Sewell', 'value': 'S001185'},\n",
       " {'label': 'Jeanne Shaheen', 'value': 'S001181'},\n",
       " {'label': 'Brad Sherman', 'value': 'S000344'},\n",
       " {'label': 'Mikie Sherrill', 'value': 'S001207'},\n",
       " {'label': 'Michael K. Simpson', 'value': 'S001148'},\n",
       " {'label': 'Kyrsten Sinema', 'value': 'S001191'},\n",
       " {'label': 'Elissa Slotkin', 'value': 'S001208'},\n",
       " {'label': 'Adrian Smith', 'value': 'S001172'},\n",
       " {'label': 'Jason Smith', 'value': 'S001195'},\n",
       " {'label': 'Tina Smith', 'value': 'S001203'},\n",
       " {'label': 'Adam Smith', 'value': 'S000510'},\n",
       " {'label': 'Christopher H. Smith', 'value': 'S000522'},\n",
       " {'label': 'Lloyd Smucker', 'value': 'S001199'},\n",
       " {'label': 'Eric Sorensen', 'value': 'S001225'},\n",
       " {'label': 'Darren Soto', 'value': 'S001200'},\n",
       " {'label': 'Abigail Davis Spanberger', 'value': 'S001209'},\n",
       " {'label': 'Victoria Spartz', 'value': 'S000929'},\n",
       " {'label': 'Debbie Stabenow', 'value': 'S000770'},\n",
       " {'label': 'Melanie Stansbury', 'value': 'S001218'},\n",
       " {'label': 'Greg Stanton', 'value': 'S001211'},\n",
       " {'label': 'Pete Stauber', 'value': 'S001212'},\n",
       " {'label': 'Michelle Steel', 'value': 'S001135'},\n",
       " {'label': 'Elise M. Stefanik', 'value': 'S001196'},\n",
       " {'label': 'Bryan Steil', 'value': 'S001213'},\n",
       " {'label': 'W. Gregory Steube', 'value': 'S001214'},\n",
       " {'label': 'Haley M. Stevens', 'value': 'S001215'},\n",
       " {'label': 'Marilyn Strickland', 'value': 'S001159'},\n",
       " {'label': 'Dale W. Strong', 'value': 'S001220'},\n",
       " {'label': 'Dan Sullivan', 'value': 'S001198'},\n",
       " {'label': 'Eric Swalwell', 'value': 'S001193'},\n",
       " {'label': 'Emilia Strong Sykes', 'value': 'S001223'},\n",
       " {'label': 'Mark Takano', 'value': 'T000472'},\n",
       " {'label': 'Claudia Tenney', 'value': 'T000478'},\n",
       " {'label': 'Jon Tester', 'value': 'T000464'},\n",
       " {'label': 'Shri Thanedar', 'value': 'T000488'},\n",
       " {'label': 'Glenn Thompson', 'value': 'T000467'},\n",
       " {'label': 'Mike Thompson', 'value': 'T000460'},\n",
       " {'label': 'Bennie G. Thompson', 'value': 'T000193'},\n",
       " {'label': 'John Thune', 'value': 'T000250'},\n",
       " {'label': 'Thomas P. Tiffany', 'value': 'T000165'},\n",
       " {'label': 'Thom Tillis', 'value': 'T000476'},\n",
       " {'label': 'William R. Timmons IV', 'value': 'T000480'},\n",
       " {'label': 'Dina Titus', 'value': 'T000468'},\n",
       " {'label': 'Rashida Tlaib', 'value': 'T000481'},\n",
       " {'label': 'Jill N. Tokuda', 'value': 'T000487'},\n",
       " {'label': 'Paul Tonko', 'value': 'T000469'},\n",
       " {'label': 'Ritchie Torres', 'value': 'T000486'},\n",
       " {'label': 'Norma J. Torres', 'value': 'T000474'},\n",
       " {'label': 'Lori Trahan', 'value': 'T000482'},\n",
       " {'label': 'David J. Trone', 'value': 'T000483'},\n",
       " {'label': 'Tommy Tuberville', 'value': 'T000278'},\n",
       " {'label': 'Michael R. Turner', 'value': 'T000463'},\n",
       " {'label': 'Lauren Underwood', 'value': 'U000040'},\n",
       " {'label': 'David G. Valadao', 'value': 'V000129'},\n",
       " {'label': 'J. D. Vance', 'value': 'V000137'},\n",
       " {'label': 'Jefferson Van Drew', 'value': 'V000133'},\n",
       " {'label': 'Beth Van Duyne', 'value': 'V000134'},\n",
       " {'label': 'Chris Van Hollen', 'value': 'V000128'},\n",
       " {'label': 'Derrick Van Orden', 'value': 'V000135'},\n",
       " {'label': 'Juan Vargas', 'value': 'V000130'},\n",
       " {'label': 'Gabe Vasquez', 'value': 'V000136'},\n",
       " {'label': 'Marc A. Veasey', 'value': 'V000131'},\n",
       " {'label': 'Nydia M. Velazquez', 'value': 'V000081'},\n",
       " {'label': 'Ann Wagner', 'value': 'W000812'},\n",
       " {'label': 'Tim Walberg', 'value': 'W000798'},\n",
       " {'label': 'Michael Waltz', 'value': 'W000823'},\n",
       " {'label': 'Mark R. Warner', 'value': 'W000805'},\n",
       " {'label': 'Raphael G. Warnock', 'value': 'W000790'},\n",
       " {'label': 'Elizabeth Warren', 'value': 'W000817'},\n",
       " {'label': 'Debbie Wasserman Schultz', 'value': 'W000797'},\n",
       " {'label': 'Maxine Waters', 'value': 'W000187'},\n",
       " {'label': 'Bonnie Watson Coleman', 'value': 'W000822'},\n",
       " {'label': 'Randy K. Weber, Sr.', 'value': 'W000814'},\n",
       " {'label': 'Daniel Webster', 'value': 'W000806'},\n",
       " {'label': 'Peter Welch', 'value': 'W000800'},\n",
       " {'label': 'Brad R. Wenstrup', 'value': 'W000815'},\n",
       " {'label': 'Bruce Westerman', 'value': 'W000821'},\n",
       " {'label': 'Jennifer Wexton', 'value': 'W000825'},\n",
       " {'label': 'Sheldon Whitehouse', 'value': 'W000802'},\n",
       " {'label': 'Roger F. Wicker', 'value': 'W000437'},\n",
       " {'label': 'Susan Wild', 'value': 'W000826'},\n",
       " {'label': 'Nikema Williams', 'value': 'W000788'},\n",
       " {'label': 'Roger Williams', 'value': 'W000816'},\n",
       " {'label': 'Brandon Williams', 'value': 'W000828'},\n",
       " {'label': 'Frederica S. Wilson', 'value': 'W000808'},\n",
       " {'label': 'Joe Wilson', 'value': 'W000795'},\n",
       " {'label': 'Robert J. Wittman', 'value': 'W000804'},\n",
       " {'label': 'Steve Womack', 'value': 'W000809'},\n",
       " {'label': 'Ron Wyden', 'value': 'W000779'},\n",
       " {'label': 'Rudy Yakym III', 'value': 'Y000067'},\n",
       " {'label': 'Todd Young', 'value': 'Y000064'},\n",
       " {'label': 'Ryan K. Zinke', 'value': 'Z000018'}]"
      ]
     },
     "execution_count": 5,
     "metadata": {},
     "output_type": "execute_result"
    }
   ],
   "source": [
    "myquery = '''\n",
    "SELECT directordername, bioguideid\n",
    "FROM members\n",
    "ORDER BY lastname\n",
    "'''\n",
    "\n",
    "members = pd.read_sql_query(myquery, con=engine)\n",
    "member_list = [{'label': x, 'value': y} for x, y in zip(members['directordername'], members['bioguideid'])]\n",
    "member_list"
   ]
  },
  {
   "cell_type": "code",
   "execution_count": 6,
   "id": "c4ec6e00-71e6-4eea-9783-ea70dd423654",
   "metadata": {},
   "outputs": [
    {
     "data": {
      "text/plain": [
       "Index(['directordername', 'bioguideid'], dtype='object')"
      ]
     },
     "execution_count": 6,
     "metadata": {},
     "output_type": "execute_result"
    }
   ],
   "source": [
    "members.columns"
   ]
  },
  {
   "cell_type": "code",
   "execution_count": 7,
   "id": "78ede39b-de12-43fc-a304-607bf4d19ad1",
   "metadata": {},
   "outputs": [],
   "source": [
    "myquery = '''\n",
    "SELECT bioguideid,\n",
    "    directordername,\n",
    "    party,\n",
    "    ideology,\n",
    "    state,\n",
    "    district\n",
    "FROM members\n",
    "'''\n",
    "\n",
    "ideo_df = pd.read_sql_query(myquery, con=engine)\n",
    "ideo_df['chamber'] = ideo_df['district'].isnull()\n",
    "ideo_df['chamber'] = ideo_df['chamber'].replace({True: 'Senate', False: 'House of Representatives'})"
   ]
  },
  {
   "cell_type": "code",
   "execution_count": 8,
   "id": "3b77e77d-9ba1-4460-a514-f6bdf37221df",
   "metadata": {},
   "outputs": [
    {
     "data": {
      "text/html": [
       "<div>\n",
       "<style scoped>\n",
       "    .dataframe tbody tr th:only-of-type {\n",
       "        vertical-align: middle;\n",
       "    }\n",
       "\n",
       "    .dataframe tbody tr th {\n",
       "        vertical-align: top;\n",
       "    }\n",
       "\n",
       "    .dataframe thead th {\n",
       "        text-align: right;\n",
       "    }\n",
       "</style>\n",
       "<table border=\"1\" class=\"dataframe\">\n",
       "  <thead>\n",
       "    <tr style=\"text-align: right;\">\n",
       "      <th></th>\n",
       "      <th>bioguideid</th>\n",
       "      <th>directordername</th>\n",
       "      <th>party</th>\n",
       "      <th>ideology</th>\n",
       "      <th>state</th>\n",
       "      <th>district</th>\n",
       "      <th>chamber</th>\n",
       "    </tr>\n",
       "  </thead>\n",
       "  <tbody>\n",
       "    <tr>\n",
       "      <th>0</th>\n",
       "      <td>B000944</td>\n",
       "      <td>Sherrod Brown</td>\n",
       "      <td>D</td>\n",
       "      <td>-0.427</td>\n",
       "      <td>Ohio</td>\n",
       "      <td>NaN</td>\n",
       "      <td>Senate</td>\n",
       "    </tr>\n",
       "    <tr>\n",
       "      <th>1</th>\n",
       "      <td>C000127</td>\n",
       "      <td>Maria Cantwell</td>\n",
       "      <td>D</td>\n",
       "      <td>-0.305</td>\n",
       "      <td>Washington</td>\n",
       "      <td>NaN</td>\n",
       "      <td>Senate</td>\n",
       "    </tr>\n",
       "    <tr>\n",
       "      <th>2</th>\n",
       "      <td>C000141</td>\n",
       "      <td>Benjamin L. Cardin</td>\n",
       "      <td>D</td>\n",
       "      <td>-0.320</td>\n",
       "      <td>Maryland</td>\n",
       "      <td>NaN</td>\n",
       "      <td>Senate</td>\n",
       "    </tr>\n",
       "    <tr>\n",
       "      <th>3</th>\n",
       "      <td>C000174</td>\n",
       "      <td>Thomas R. Carper</td>\n",
       "      <td>D</td>\n",
       "      <td>-0.178</td>\n",
       "      <td>Delaware</td>\n",
       "      <td>NaN</td>\n",
       "      <td>Senate</td>\n",
       "    </tr>\n",
       "    <tr>\n",
       "      <th>4</th>\n",
       "      <td>C001070</td>\n",
       "      <td>Robert P. Casey Jr.</td>\n",
       "      <td>D</td>\n",
       "      <td>-0.313</td>\n",
       "      <td>Pennsylvania</td>\n",
       "      <td>NaN</td>\n",
       "      <td>Senate</td>\n",
       "    </tr>\n",
       "    <tr>\n",
       "      <th>...</th>\n",
       "      <td>...</td>\n",
       "      <td>...</td>\n",
       "      <td>...</td>\n",
       "      <td>...</td>\n",
       "      <td>...</td>\n",
       "      <td>...</td>\n",
       "      <td>...</td>\n",
       "    </tr>\n",
       "    <tr>\n",
       "      <th>525</th>\n",
       "      <td>G000600</td>\n",
       "      <td>Marie Gluesenkamp Perez</td>\n",
       "      <td>D</td>\n",
       "      <td>-0.115</td>\n",
       "      <td>Washington</td>\n",
       "      <td>3.0</td>\n",
       "      <td>House of Representatives</td>\n",
       "    </tr>\n",
       "    <tr>\n",
       "      <th>526</th>\n",
       "      <td>V000135</td>\n",
       "      <td>Derrick Van Orden</td>\n",
       "      <td>R</td>\n",
       "      <td>0.381</td>\n",
       "      <td>Wisconsin</td>\n",
       "      <td>3.0</td>\n",
       "      <td>House of Representatives</td>\n",
       "    </tr>\n",
       "    <tr>\n",
       "      <th>527</th>\n",
       "      <td>H001096</td>\n",
       "      <td>Harriet M. Hageman</td>\n",
       "      <td>R</td>\n",
       "      <td>0.688</td>\n",
       "      <td>Wyoming</td>\n",
       "      <td>NaN</td>\n",
       "      <td>Senate</td>\n",
       "    </tr>\n",
       "    <tr>\n",
       "      <th>528</th>\n",
       "      <td>R000618</td>\n",
       "      <td>Pete Ricketts</td>\n",
       "      <td>R</td>\n",
       "      <td>0.369</td>\n",
       "      <td>Nebraska</td>\n",
       "      <td>NaN</td>\n",
       "      <td>Senate</td>\n",
       "    </tr>\n",
       "    <tr>\n",
       "      <th>529</th>\n",
       "      <td>M001227</td>\n",
       "      <td>Jennifer L. McClellan</td>\n",
       "      <td>D</td>\n",
       "      <td>-0.493</td>\n",
       "      <td>Virginia</td>\n",
       "      <td>4.0</td>\n",
       "      <td>House of Representatives</td>\n",
       "    </tr>\n",
       "  </tbody>\n",
       "</table>\n",
       "<p>530 rows × 7 columns</p>\n",
       "</div>"
      ],
      "text/plain": [
       "    bioguideid          directordername party  ideology         state  \\\n",
       "0      B000944            Sherrod Brown     D    -0.427          Ohio   \n",
       "1      C000127           Maria Cantwell     D    -0.305    Washington   \n",
       "2      C000141       Benjamin L. Cardin     D    -0.320      Maryland   \n",
       "3      C000174         Thomas R. Carper     D    -0.178      Delaware   \n",
       "4      C001070      Robert P. Casey Jr.     D    -0.313  Pennsylvania   \n",
       "..         ...                      ...   ...       ...           ...   \n",
       "525    G000600  Marie Gluesenkamp Perez     D    -0.115    Washington   \n",
       "526    V000135        Derrick Van Orden     R     0.381     Wisconsin   \n",
       "527    H001096       Harriet M. Hageman     R     0.688       Wyoming   \n",
       "528    R000618            Pete Ricketts     R     0.369      Nebraska   \n",
       "529    M001227    Jennifer L. McClellan     D    -0.493      Virginia   \n",
       "\n",
       "     district                   chamber  \n",
       "0         NaN                    Senate  \n",
       "1         NaN                    Senate  \n",
       "2         NaN                    Senate  \n",
       "3         NaN                    Senate  \n",
       "4         NaN                    Senate  \n",
       "..        ...                       ...  \n",
       "525       3.0  House of Representatives  \n",
       "526       3.0  House of Representatives  \n",
       "527       NaN                    Senate  \n",
       "528       NaN                    Senate  \n",
       "529       4.0  House of Representatives  \n",
       "\n",
       "[530 rows x 7 columns]"
      ]
     },
     "execution_count": 8,
     "metadata": {},
     "output_type": "execute_result"
    }
   ],
   "source": [
    "ideo_df"
   ]
  },
  {
   "cell_type": "code",
   "execution_count": 9,
   "id": "04e7f61a-701e-4ec8-bbb5-f0844532842b",
   "metadata": {},
   "outputs": [],
   "source": [
    "ideo_df['namedistrict'] = [n + ' (' + s + ')' if c=='Senate' \n",
    "     else n + ' (' + s + '-' + str(int(d)) + ')' \n",
    " for n,s,c,d in zip(ideo_df['directordername'], ideo_df['state'], ideo_df['chamber'], ideo_df['district'])]\n",
    "ideo_df['party'] = ideo_df['party'].replace({\n",
    "    'D': 'Democrat',\n",
    "    'R': 'Republican',\n",
    "    'I': 'Independent'\n",
    "})\n",
    "\n"
   ]
  },
  {
   "cell_type": "code",
   "execution_count": 10,
   "id": "96f5752d-f185-4889-a304-91e15f23ffc0",
   "metadata": {},
   "outputs": [
    {
     "data": {
      "text/html": [
       "<div>\n",
       "<style scoped>\n",
       "    .dataframe tbody tr th:only-of-type {\n",
       "        vertical-align: middle;\n",
       "    }\n",
       "\n",
       "    .dataframe tbody tr th {\n",
       "        vertical-align: top;\n",
       "    }\n",
       "\n",
       "    .dataframe thead th {\n",
       "        text-align: right;\n",
       "    }\n",
       "</style>\n",
       "<table border=\"1\" class=\"dataframe\">\n",
       "  <thead>\n",
       "    <tr style=\"text-align: right;\">\n",
       "      <th></th>\n",
       "      <th>bioguideid</th>\n",
       "      <th>directordername</th>\n",
       "      <th>party</th>\n",
       "      <th>ideology</th>\n",
       "      <th>state</th>\n",
       "      <th>district</th>\n",
       "      <th>chamber</th>\n",
       "      <th>namedistrict</th>\n",
       "    </tr>\n",
       "  </thead>\n",
       "  <tbody>\n",
       "    <tr>\n",
       "      <th>0</th>\n",
       "      <td>B000944</td>\n",
       "      <td>Sherrod Brown</td>\n",
       "      <td>Democrat</td>\n",
       "      <td>-0.427</td>\n",
       "      <td>Ohio</td>\n",
       "      <td>NaN</td>\n",
       "      <td>Senate</td>\n",
       "      <td>Sherrod Brown (Ohio)</td>\n",
       "    </tr>\n",
       "    <tr>\n",
       "      <th>1</th>\n",
       "      <td>C000127</td>\n",
       "      <td>Maria Cantwell</td>\n",
       "      <td>Democrat</td>\n",
       "      <td>-0.305</td>\n",
       "      <td>Washington</td>\n",
       "      <td>NaN</td>\n",
       "      <td>Senate</td>\n",
       "      <td>Maria Cantwell (Washington)</td>\n",
       "    </tr>\n",
       "    <tr>\n",
       "      <th>2</th>\n",
       "      <td>C000141</td>\n",
       "      <td>Benjamin L. Cardin</td>\n",
       "      <td>Democrat</td>\n",
       "      <td>-0.320</td>\n",
       "      <td>Maryland</td>\n",
       "      <td>NaN</td>\n",
       "      <td>Senate</td>\n",
       "      <td>Benjamin L. Cardin (Maryland)</td>\n",
       "    </tr>\n",
       "    <tr>\n",
       "      <th>3</th>\n",
       "      <td>C000174</td>\n",
       "      <td>Thomas R. Carper</td>\n",
       "      <td>Democrat</td>\n",
       "      <td>-0.178</td>\n",
       "      <td>Delaware</td>\n",
       "      <td>NaN</td>\n",
       "      <td>Senate</td>\n",
       "      <td>Thomas R. Carper (Delaware)</td>\n",
       "    </tr>\n",
       "    <tr>\n",
       "      <th>4</th>\n",
       "      <td>C001070</td>\n",
       "      <td>Robert P. Casey Jr.</td>\n",
       "      <td>Democrat</td>\n",
       "      <td>-0.313</td>\n",
       "      <td>Pennsylvania</td>\n",
       "      <td>NaN</td>\n",
       "      <td>Senate</td>\n",
       "      <td>Robert P. Casey Jr. (Pennsylvania)</td>\n",
       "    </tr>\n",
       "    <tr>\n",
       "      <th>...</th>\n",
       "      <td>...</td>\n",
       "      <td>...</td>\n",
       "      <td>...</td>\n",
       "      <td>...</td>\n",
       "      <td>...</td>\n",
       "      <td>...</td>\n",
       "      <td>...</td>\n",
       "      <td>...</td>\n",
       "    </tr>\n",
       "    <tr>\n",
       "      <th>525</th>\n",
       "      <td>G000600</td>\n",
       "      <td>Marie Gluesenkamp Perez</td>\n",
       "      <td>Democrat</td>\n",
       "      <td>-0.115</td>\n",
       "      <td>Washington</td>\n",
       "      <td>3.0</td>\n",
       "      <td>House of Representatives</td>\n",
       "      <td>Marie Gluesenkamp Perez (Washington-3)</td>\n",
       "    </tr>\n",
       "    <tr>\n",
       "      <th>526</th>\n",
       "      <td>V000135</td>\n",
       "      <td>Derrick Van Orden</td>\n",
       "      <td>Republican</td>\n",
       "      <td>0.381</td>\n",
       "      <td>Wisconsin</td>\n",
       "      <td>3.0</td>\n",
       "      <td>House of Representatives</td>\n",
       "      <td>Derrick Van Orden (Wisconsin-3)</td>\n",
       "    </tr>\n",
       "    <tr>\n",
       "      <th>527</th>\n",
       "      <td>H001096</td>\n",
       "      <td>Harriet M. Hageman</td>\n",
       "      <td>Republican</td>\n",
       "      <td>0.688</td>\n",
       "      <td>Wyoming</td>\n",
       "      <td>NaN</td>\n",
       "      <td>Senate</td>\n",
       "      <td>Harriet M. Hageman (Wyoming)</td>\n",
       "    </tr>\n",
       "    <tr>\n",
       "      <th>528</th>\n",
       "      <td>R000618</td>\n",
       "      <td>Pete Ricketts</td>\n",
       "      <td>Republican</td>\n",
       "      <td>0.369</td>\n",
       "      <td>Nebraska</td>\n",
       "      <td>NaN</td>\n",
       "      <td>Senate</td>\n",
       "      <td>Pete Ricketts (Nebraska)</td>\n",
       "    </tr>\n",
       "    <tr>\n",
       "      <th>529</th>\n",
       "      <td>M001227</td>\n",
       "      <td>Jennifer L. McClellan</td>\n",
       "      <td>Democrat</td>\n",
       "      <td>-0.493</td>\n",
       "      <td>Virginia</td>\n",
       "      <td>4.0</td>\n",
       "      <td>House of Representatives</td>\n",
       "      <td>Jennifer L. McClellan (Virginia-4)</td>\n",
       "    </tr>\n",
       "  </tbody>\n",
       "</table>\n",
       "<p>530 rows × 8 columns</p>\n",
       "</div>"
      ],
      "text/plain": [
       "    bioguideid          directordername       party  ideology         state  \\\n",
       "0      B000944            Sherrod Brown    Democrat    -0.427          Ohio   \n",
       "1      C000127           Maria Cantwell    Democrat    -0.305    Washington   \n",
       "2      C000141       Benjamin L. Cardin    Democrat    -0.320      Maryland   \n",
       "3      C000174         Thomas R. Carper    Democrat    -0.178      Delaware   \n",
       "4      C001070      Robert P. Casey Jr.    Democrat    -0.313  Pennsylvania   \n",
       "..         ...                      ...         ...       ...           ...   \n",
       "525    G000600  Marie Gluesenkamp Perez    Democrat    -0.115    Washington   \n",
       "526    V000135        Derrick Van Orden  Republican     0.381     Wisconsin   \n",
       "527    H001096       Harriet M. Hageman  Republican     0.688       Wyoming   \n",
       "528    R000618            Pete Ricketts  Republican     0.369      Nebraska   \n",
       "529    M001227    Jennifer L. McClellan    Democrat    -0.493      Virginia   \n",
       "\n",
       "     district                   chamber  \\\n",
       "0         NaN                    Senate   \n",
       "1         NaN                    Senate   \n",
       "2         NaN                    Senate   \n",
       "3         NaN                    Senate   \n",
       "4         NaN                    Senate   \n",
       "..        ...                       ...   \n",
       "525       3.0  House of Representatives   \n",
       "526       3.0  House of Representatives   \n",
       "527       NaN                    Senate   \n",
       "528       NaN                    Senate   \n",
       "529       4.0  House of Representatives   \n",
       "\n",
       "                               namedistrict  \n",
       "0                      Sherrod Brown (Ohio)  \n",
       "1               Maria Cantwell (Washington)  \n",
       "2             Benjamin L. Cardin (Maryland)  \n",
       "3               Thomas R. Carper (Delaware)  \n",
       "4        Robert P. Casey Jr. (Pennsylvania)  \n",
       "..                                      ...  \n",
       "525  Marie Gluesenkamp Perez (Washington-3)  \n",
       "526         Derrick Van Orden (Wisconsin-3)  \n",
       "527            Harriet M. Hageman (Wyoming)  \n",
       "528                Pete Ricketts (Nebraska)  \n",
       "529      Jennifer L. McClellan (Virginia-4)  \n",
       "\n",
       "[530 rows x 8 columns]"
      ]
     },
     "execution_count": 10,
     "metadata": {},
     "output_type": "execute_result"
    }
   ],
   "source": [
    "ideo_df"
   ]
  },
  {
   "cell_type": "code",
   "execution_count": 11,
   "id": "2e73f5a3-fc1d-4087-9962-5139b6016749",
   "metadata": {},
   "outputs": [],
   "source": [
    "def ideograph(b):\n",
    "    ideo2 = ideo_df.query(f\"bioguideid == '{b}'\")\n",
    "    \n",
    "    fig = px.scatter(ideo_df, x='ideology', y='chamber', color='party',\n",
    "                     color_discrete_map={'Republican': 'red',\n",
    "                                         'Democrat': 'blue',\n",
    "                                         'Independent': 'green'},\n",
    "                     height=300, width=600,\n",
    "                     labels={'ideology':'Left/Right Ideology (DW-NOMINATE)', \n",
    "                            'chamber':'Chamber',\n",
    "                            'party': 'Political Party'},\n",
    "                     hover_name = 'namedistrict',\n",
    "                     hover_data=['party'],\n",
    "                     title = 'Ideological Placements in Congress',\n",
    "                    opacity = .1)\n",
    "    \n",
    "     \n",
    "    \n",
    "    fig.update(layout=dict(title=dict(x=0.5)))\n",
    "    fig.update_yaxes(range=(-0.5, 1.5), tickvals=[0, 1],\n",
    "                    ticktext = ['Senate', 'House of Representatives'])\n",
    "    fig.update_xaxes(range=(-1,1), tickvals=[-1, -.5, 0, .5, 1],\n",
    "                    ticktext = ['Extreme left', 'Moderate left', 'Centrist', 'Moderate right', 'Extreme right'])\n",
    "    \n",
    "     \n",
    "    \n",
    "    fig.add_traces(\n",
    "        px.scatter(ideo2, x='ideology', y='chamber', color='party',\n",
    "                     color_discrete_map={'Republican': 'red',\n",
    "                                         'Democrat': 'blue',\n",
    "                                         'Independent': 'green'},\n",
    "                     height=300, width=600,\n",
    "                     labels={'ideology':'Left/Right Ideology (DW-NOMINATE)', \n",
    "                            'chamber':'Chamber',\n",
    "                            'party': 'Political Party'},\n",
    "                     hover_name = 'namedistrict',\n",
    "                     hover_data=['party'],\n",
    "                     title = 'Ideological Placements in Congress').update_traces(marker=dict(size=8, symbol=\"star\", line=dict(width=2, color=\"DarkSlateGrey\")),\n",
    "                                                                                showlegend=False).data\n",
    "    )\n",
    "    \n",
    "     \n",
    "    \n",
    "    \n",
    "    return [fig]"
   ]
  },
  {
   "cell_type": "code",
   "execution_count": 12,
   "id": "d219eef0-9390-497a-93a2-891a426b984f",
   "metadata": {},
   "outputs": [],
   "source": [
    "external_stylesheets = ['https://codepen.io/chriddyp/pen/bWLwgP.css']"
   ]
  },
  {
   "cell_type": "code",
   "execution_count": 13,
   "id": "9528d5fd-8ffd-4887-b736-25487e29ebd5",
   "metadata": {},
   "outputs": [],
   "source": [
    "mymarkdown = '''\n",
    "\n",
    "Congressional elections are usually all about the big national issues. However, these Representatives and Senators work for local districts and states. Not all issues are the same everywhere. The purpose of this dashboard is to collect public data from these sources:\n",
    "\n",
    "* [Official API for the U.S. Congres](https://api.congress.gov/)\n",
    "\n",
    "* [Voteview](https://voteview.com)\n",
    "\n",
    "* [Open Secrets](https://www.opensecrets.org/open-data/api)\n",
    "\n",
    "* ProPublica's Data on Bills\n",
    "\n",
    "\n",
    "'''"
   ]
  },
  {
   "cell_type": "code",
   "execution_count": 50,
   "id": "2a35d66d-b5d2-4a3b-9284-f6ae77c29ad2",
   "metadata": {},
   "outputs": [
    {
     "data": {
      "text/html": [
       "\n",
       "        <iframe\n",
       "            width=\"100%\"\n",
       "            height=\"650\"\n",
       "            src=\"http://0.0.0.0:8050/\"\n",
       "            frameborder=\"0\"\n",
       "            allowfullscreen\n",
       "            \n",
       "        ></iframe>\n",
       "        "
      ],
      "text/plain": [
       "<IPython.lib.display.IFrame at 0x7f97851c1e10>"
      ]
     },
     "metadata": {},
     "output_type": "display_data"
    },
    {
     "name": "stdout",
     "output_type": "stream",
     "text": [
      "\u001b[1;31m---------------------------------------------------------------------------\u001b[0m\n",
      "\u001b[1;31mValueError\u001b[0m                                Traceback (most recent call last)\n",
      "File \u001b[1;32m/usr/local/lib/python3.11/site-packages/pandas/core/indexes/range.py:345\u001b[0m, in \u001b[0;36mRangeIndex.get_loc\u001b[1;34m(\n",
      "    self=RangeIndex(start=0, stop=0, step=1),\n",
      "    key=1\n",
      ")\u001b[0m\n",
      "\u001b[0;32m    344\u001b[0m \u001b[38;5;28;01mtry\u001b[39;00m:\n",
      "\u001b[1;32m--> 345\u001b[0m     \u001b[38;5;28;01mreturn\u001b[39;00m \u001b[38;5;28mself\u001b[39m\u001b[38;5;241m.\u001b[39m_range\u001b[38;5;241m.\u001b[39mindex(new_key)\n",
      "        new_key \u001b[1;34m= 1\u001b[0m\u001b[1;34m\n",
      "        \u001b[0mself \u001b[1;34m= RangeIndex(start=0, stop=0, step=1)\u001b[0m\u001b[1;34m\n",
      "        \u001b[0mself._range \u001b[1;34m= range(0, 0)\u001b[0m\n",
      "\u001b[0;32m    346\u001b[0m \u001b[38;5;28;01mexcept\u001b[39;00m \u001b[38;5;167;01mValueError\u001b[39;00m \u001b[38;5;28;01mas\u001b[39;00m err:\n",
      "\n",
      "\u001b[1;31mValueError\u001b[0m: 1 is not in range\n",
      "\n",
      "The above exception was the direct cause of the following exception:\n",
      "\n",
      "\u001b[1;31mKeyError\u001b[0m                                  Traceback (most recent call last)\n",
      "\u001b[1;31mKeyError\u001b[0m: 1\n",
      "\n",
      "\u001b[1;31m---------------------------------------------------------------------------\u001b[0m\n",
      "\u001b[1;31mValueError\u001b[0m                                Traceback (most recent call last)\n",
      "File \u001b[1;32m/usr/local/lib/python3.11/site-packages/pandas/core/indexes/range.py:345\u001b[0m, in \u001b[0;36mRangeIndex.get_loc\u001b[1;34m(\n",
      "    self=RangeIndex(start=0, stop=0, step=1),\n",
      "    key=1\n",
      ")\u001b[0m\n",
      "\u001b[0;32m    344\u001b[0m \u001b[38;5;28;01mtry\u001b[39;00m:\n",
      "\u001b[1;32m--> 345\u001b[0m     \u001b[38;5;28;01mreturn\u001b[39;00m \u001b[38;5;28mself\u001b[39m\u001b[38;5;241m.\u001b[39m_range\u001b[38;5;241m.\u001b[39mindex(new_key)\n",
      "        new_key \u001b[1;34m= 1\u001b[0m\u001b[1;34m\n",
      "        \u001b[0mself \u001b[1;34m= RangeIndex(start=0, stop=0, step=1)\u001b[0m\u001b[1;34m\n",
      "        \u001b[0mself._range \u001b[1;34m= range(0, 0)\u001b[0m\n",
      "\u001b[0;32m    346\u001b[0m \u001b[38;5;28;01mexcept\u001b[39;00m \u001b[38;5;167;01mValueError\u001b[39;00m \u001b[38;5;28;01mas\u001b[39;00m err:\n",
      "\n",
      "\u001b[1;31mValueError\u001b[0m: 1 is not in range\n",
      "\n",
      "The above exception was the direct cause of the following exception:\n",
      "\n",
      "\u001b[1;31mKeyError\u001b[0m                                  Traceback (most recent call last)\n",
      "\u001b[1;31mKeyError\u001b[0m: 1\n",
      "\n",
      "\u001b[1;31m---------------------------------------------------------------------------\u001b[0m\n",
      "\u001b[1;31mValueError\u001b[0m                                Traceback (most recent call last)\n",
      "File \u001b[1;32m/usr/local/lib/python3.11/site-packages/pandas/core/indexes/range.py:345\u001b[0m, in \u001b[0;36mRangeIndex.get_loc\u001b[1;34m(\n",
      "    self=RangeIndex(start=0, stop=0, step=1),\n",
      "    key=0\n",
      ")\u001b[0m\n",
      "\u001b[0;32m    344\u001b[0m \u001b[38;5;28;01mtry\u001b[39;00m:\n",
      "\u001b[1;32m--> 345\u001b[0m     \u001b[38;5;28;01mreturn\u001b[39;00m \u001b[38;5;28mself\u001b[39m\u001b[38;5;241m.\u001b[39m_range\u001b[38;5;241m.\u001b[39mindex(new_key)\n",
      "        new_key \u001b[1;34m= 0\u001b[0m\u001b[1;34m\n",
      "        \u001b[0mself \u001b[1;34m= RangeIndex(start=0, stop=0, step=1)\u001b[0m\u001b[1;34m\n",
      "        \u001b[0mself._range \u001b[1;34m= range(0, 0)\u001b[0m\n",
      "\u001b[0;32m    346\u001b[0m \u001b[38;5;28;01mexcept\u001b[39;00m \u001b[38;5;167;01mValueError\u001b[39;00m \u001b[38;5;28;01mas\u001b[39;00m err:\n",
      "\n",
      "\u001b[1;31mValueError\u001b[0m: 0 is not in range\n",
      "\n",
      "The above exception was the direct cause of the following exception:\n",
      "\n",
      "\u001b[1;31mKeyError\u001b[0m                                  Traceback (most recent call last)\n",
      "\u001b[1;31mKeyError\u001b[0m: 0\n",
      "\n",
      "\u001b[1;31m---------------------------------------------------------------------------\u001b[0m\n",
      "\u001b[1;31mValueError\u001b[0m                                Traceback (most recent call last)\n",
      "File \u001b[1;32m/usr/local/lib/python3.11/site-packages/pandas/core/indexes/range.py:345\u001b[0m, in \u001b[0;36mRangeIndex.get_loc\u001b[1;34m(\n",
      "    self=RangeIndex(start=0, stop=0, step=1),\n",
      "    key=1\n",
      ")\u001b[0m\n",
      "\u001b[0;32m    344\u001b[0m \u001b[38;5;28;01mtry\u001b[39;00m:\n",
      "\u001b[1;32m--> 345\u001b[0m     \u001b[38;5;28;01mreturn\u001b[39;00m \u001b[38;5;28mself\u001b[39m\u001b[38;5;241m.\u001b[39m_range\u001b[38;5;241m.\u001b[39mindex(new_key)\n",
      "        new_key \u001b[1;34m= 1\u001b[0m\u001b[1;34m\n",
      "        \u001b[0mself \u001b[1;34m= RangeIndex(start=0, stop=0, step=1)\u001b[0m\u001b[1;34m\n",
      "        \u001b[0mself._range \u001b[1;34m= range(0, 0)\u001b[0m\n",
      "\u001b[0;32m    346\u001b[0m \u001b[38;5;28;01mexcept\u001b[39;00m \u001b[38;5;167;01mValueError\u001b[39;00m \u001b[38;5;28;01mas\u001b[39;00m err:\n",
      "\n",
      "\u001b[1;31mValueError\u001b[0m: 1 is not in range\n",
      "\n",
      "The above exception was the direct cause of the following exception:\n",
      "\n",
      "\u001b[1;31mKeyError\u001b[0m                                  Traceback (most recent call last)\n",
      "\u001b[1;31mKeyError\u001b[0m: 1\n",
      "\n",
      "\u001b[1;31m---------------------------------------------------------------------------\u001b[0m\n",
      "\u001b[1;31mValueError\u001b[0m                                Traceback (most recent call last)\n",
      "File \u001b[1;32m/usr/local/lib/python3.11/site-packages/pandas/core/indexes/range.py:345\u001b[0m, in \u001b[0;36mRangeIndex.get_loc\u001b[1;34m(\n",
      "    self=RangeIndex(start=0, stop=0, step=1),\n",
      "    key=1\n",
      ")\u001b[0m\n",
      "\u001b[0;32m    344\u001b[0m \u001b[38;5;28;01mtry\u001b[39;00m:\n",
      "\u001b[1;32m--> 345\u001b[0m     \u001b[38;5;28;01mreturn\u001b[39;00m \u001b[38;5;28mself\u001b[39m\u001b[38;5;241m.\u001b[39m_range\u001b[38;5;241m.\u001b[39mindex(new_key)\n",
      "        new_key \u001b[1;34m= 1\u001b[0m\u001b[1;34m\n",
      "        \u001b[0mself \u001b[1;34m= RangeIndex(start=0, stop=0, step=1)\u001b[0m\u001b[1;34m\n",
      "        \u001b[0mself._range \u001b[1;34m= range(0, 0)\u001b[0m\n",
      "\u001b[0;32m    346\u001b[0m \u001b[38;5;28;01mexcept\u001b[39;00m \u001b[38;5;167;01mValueError\u001b[39;00m \u001b[38;5;28;01mas\u001b[39;00m err:\n",
      "\n",
      "\u001b[1;31mValueError\u001b[0m: 1 is not in range\n",
      "\n",
      "The above exception was the direct cause of the following exception:\n",
      "\n",
      "\u001b[1;31mKeyError\u001b[0m                                  Traceback (most recent call last)\n",
      "\u001b[1;31mKeyError\u001b[0m: 1\n",
      "\n"
     ]
    }
   ],
   "source": [
    "app = dash.Dash(__name__, external_stylesheets=external_stylesheets)\n",
    "\n",
    "app.layout = html.Div(\n",
    "    [\n",
    "        #Stuff on top\n",
    "\n",
    "        html.H1(\"Know Thy Representatives in Congress\"),\n",
    "        html.H2(\"Data collected from APIs from Congress.gov, Open Secrets, Voteview.com, and Propublica\"),\n",
    "        html.H3(\"DS6600: Data Engineering 1, UVA Data Science\"),\n",
    "\n",
    "        #Side bar\n",
    "\n",
    "        html.Div([\n",
    "            dcc.Markdown('Select a Representative or Senator:'),\n",
    "            dcc.Dropdown(id = 'member',\n",
    "                         options = member_list,\n",
    "                         value = 'A000370'),\n",
    "            dcc.Markdown(mymarkdown)\n",
    "        ], style = {'width': '24%', 'float': 'left'}),\n",
    "\n",
    "        #Main bar\n",
    "        html.Div([\n",
    "            dcc.Tabs([\n",
    "                    dcc.Tab(label = 'Biographical Info', children = [\n",
    "                    # stuff for bio tab goes here\n",
    "                    html.Div([html.Img(id = 'bioimage', style={'height':'100%', 'width':'100%'})], style = {'width': '24%', 'float':'left'}),\n",
    "                    html.Div([dcc.Graph(id = 'biotable')], style = {'width': '74%', 'float':'right'})\n",
    "                ]),\n",
    "                dcc.Tab(label = 'Bill Sponsorship', children = [\n",
    "                    #stuff for bill tab goes here\n",
    "                ]),\n",
    "                dcc.Tab(label = 'Voting and Ideology', children = [\n",
    "                    #stuff for voting tab goes here\n",
    "                    dcc.Graph(id = 'ideograph', style={'height':'100%', 'width':'100%'}),\n",
    "                    dcc.Markdown('**Here are the top 10 most dimilar members of Congress by voting record:**'),\n",
    "                    dcc.Graph(id='votesim')\n",
    "                ]),\n",
    "                dcc.Tab(label = 'Donors and Financial Info', children = [\n",
    "                    #stuff for donors tab goes here\n",
    "                    dcc.Graph(id='money')\n",
    "                ])\n",
    "            ])\n",
    "        ], style = {'width': '74%', 'float': 'right'})\n",
    "    ]\n",
    ")\n",
    "\n",
    "@app.callback([Output(component_id = 'biotable', component_property = 'figure')],\n",
    "             [Input(component_id = 'member', component_property = 'value')])\n",
    "\n",
    "def biotable(b):\n",
    "    myquery = f'''\n",
    "    SELECT directordername AS Name,\n",
    "           party AS Party,\n",
    "           state AS State,\n",
    "           CAST(district AS int) AS District,\n",
    "           birthyear AS Birthyear,\n",
    "           addressinformation_officeaddress AS Address,\n",
    "           CONCAT(addressinformation_city, ', ', addressinformation_district) AS City,\n",
    "           addressinformation_zipcode AS zipcode,\n",
    "           addressinformation_phonenumber\n",
    "    FROM members\n",
    "    WHERE bioguideid = '{b}'\n",
    "    '''\n",
    "    mydf = pd.read_sql_query(myquery, con=engine)\n",
    "    mydf.columns = [x.capitalize() for x in mydf.columns]\n",
    "    mydf = mydf.T.reset_index()\n",
    "    mydf = mydf.rename({'index':'', 0: ''}, axis = 1)\n",
    "    return [ff.create_table(mydf)]\n",
    "\n",
    "@app.callback([Output(component_id = 'bioimage', component_property = 'src')],\n",
    "             [Input(component_id = 'member', component_property = 'value')])\n",
    " \n",
    "\n",
    "def bioimage(b):\n",
    "    myquery = f'''\n",
    "    SELECT depiction_imageurl\n",
    "    FROM members\n",
    "    WHERE bioguideid='{b}'\n",
    "    '''\n",
    "    mydf = pd.read_sql_query(myquery, con=engine)\n",
    "    return [mydf['depiction_imageurl'][0]]\n",
    "\n",
    "@app.callback([Output(component_id = 'ideograph', component_property = 'figure')],\n",
    "             [Input(component_id = 'member', component_property = 'value')])\n",
    "\n",
    "def ideograph(b):\n",
    "    ideo2 = ideo_df.query(f\"bioguideid == '{b}'\")\n",
    "    \n",
    "    fig = px.scatter(ideo_df, x='ideology', y='chamber', color='party',\n",
    "                     color_discrete_map={'Republican': 'red',\n",
    "                                         'Democrat': 'blue',\n",
    "                                         'Independent': 'green'},\n",
    "                     height=300, width=600,\n",
    "                     labels={'ideology':'Left/Right Ideology (DW-NOMINATE)', \n",
    "                            'chamber':'Chamber',\n",
    "                            'party': 'Political Party'},\n",
    "                     hover_name = 'namedistrict',\n",
    "                     hover_data=['party'],\n",
    "                     title = 'Ideological Placements in Congress',\n",
    "                    opacity = .1)\n",
    "    \n",
    "     \n",
    "    \n",
    "    fig.update(layout=dict(title=dict(x=0.5)))\n",
    "    fig.update_yaxes(range=(-0.5, 1.5), tickvals=[0, 1],\n",
    "                    ticktext = ['Senate', 'House of Representatives'])\n",
    "    fig.update_xaxes(range=(-1,1), tickvals=[-1, -.5, 0, .5, 1],\n",
    "                    ticktext = ['Extreme left', 'Moderate left', 'Centrist', 'Moderate right', 'Extreme right'])\n",
    "    \n",
    "     \n",
    "    \n",
    "    fig.add_traces(\n",
    "        px.scatter(ideo2, x='ideology', y='chamber', color='party',\n",
    "                     color_discrete_map={'Republican': 'red',\n",
    "                                         'Democrat': 'blue',\n",
    "                                         'Independent': 'green'},\n",
    "                     height=300, width=600,\n",
    "                     labels={'ideology':'Left/Right Ideology (DW-NOMINATE)', \n",
    "                            'chamber':'Chamber',\n",
    "                            'party': 'Political Party'},\n",
    "                     hover_name = 'namedistrict',\n",
    "                     hover_data=['party'],\n",
    "                     title = 'Ideological Placements in Congress').update_traces(marker=dict(size=8, symbol=\"star\", line=dict(width=2, color=\"DarkSlateGrey\")),\n",
    "                                                                                showlegend=False).data\n",
    "    )\n",
    "    \n",
    "    fig.update_layout(autosize=True)\n",
    "    \n",
    "    return [fig]\n",
    "\n",
    "@app.callback([Output(component_id = 'votesim', component_property = 'figure')],\n",
    "             [Input(component_id = 'member', component_property = 'value')])\n",
    "\n",
    "def votesim(b):\n",
    "    myquery = f'''\n",
    "    SELECT m.directordername,\n",
    "           m.state,\n",
    "           m.party,\n",
    "           g.affinity_score\n",
    "    FROM members m\n",
    "    INNER JOIN (SELECT v.member_compare, v.affinity_score\n",
    "        FROM members m\n",
    "        INNER JOIN votesim v\n",
    "            ON m.icpsr = v.icpsr\n",
    "        WHERE m.bioguideid = '{b}'\n",
    "        ORDER BY v.affinity_score DESC\n",
    "        LIMIT 10) g\n",
    "        ON m.icpsr = g.member_compare\n",
    "    ORDER BY g.affinity_score DESC\n",
    "    '''\n",
    "    votedf = pd.read_sql_query(myquery, con=engine)\n",
    "    votedf = votedf.rename({'directordername': 'Name', 'state': 'State', 'party': 'Party', 'affinity_score': 'Vote Similarity'},\n",
    "                           axis= 1)\n",
    "    votedf['Vote Similarity'] = round(100*votedf['Vote Similarity'], 1).astype('str') + '%'\n",
    "    return [ff.create_table(votedf)]\n",
    "\n",
    "@app.callback([Output(component_id = 'money', component_property = 'figure')],\n",
    "             [Input(component_id = 'member', component_property = 'value')])\n",
    "\n",
    "def contribgraph(b):\n",
    "    myquery = f'''\n",
    "    SELECT m.directordername,\n",
    "           c.org_name,\n",
    "           c.pac,\n",
    "           c.ndiv\n",
    "    FROM contributions c\n",
    "    INNER JOIN members m\n",
    "        ON m.cid = c.cid\n",
    "    WHERE m.bioguideid = '{b}'\n",
    "    '''\n",
    "    contribdf = pd.read_sql_query(myquery, con=engine)\n",
    "    name = contribdf['directordername'][0]\n",
    "    contribdf = contribdf.drop(['directordername'], axis = 1)\n",
    "    contribdf = contribdf.rename({'org_name':'Organization',\n",
    "                                 'pac': 'Contribution Via PAC',\n",
    "                                 'ndiv':'Direct Contribution'}, axis = 1)\n",
    "    contribdf = pd.melt(contribdf, id_vars = ['Organization'],\n",
    "                       value_vars = ['Contribution Via PAC','Direct Contribution'])\n",
    "    fig = px.bar(contribdf, x='value', y='Organization', color='variable',\n",
    "                labels = {'value': 'Amount Donated',\n",
    "                         'variable':'Source'},\n",
    "                title = f\"Who's giving money to {name}?\")\n",
    "    fig.update(layout=dict(title=dict(x=0.5)))\n",
    "    return [fig]\n",
    "\n",
    "if __name__ == \"__main__\":\n",
    "    app.run_server(mode = 'external', host = \"0.0.0.0\", debug=True)\n"
   ]
  },
  {
   "cell_type": "markdown",
   "id": "3e3285a6-a6bc-4890-8e6f-5bb87ad019e6",
   "metadata": {},
   "source": [
    "#Note:\n",
    "\n",
    "Type 0.0.0.0:8050"
   ]
  },
  {
   "cell_type": "code",
   "execution_count": 20,
   "id": "5e602900-031f-44d7-a61d-5c7a7f8b9194",
   "metadata": {},
   "outputs": [
    {
     "data": {
      "text/html": [
       "<div>\n",
       "<style scoped>\n",
       "    .dataframe tbody tr th:only-of-type {\n",
       "        vertical-align: middle;\n",
       "    }\n",
       "\n",
       "    .dataframe tbody tr th {\n",
       "        vertical-align: top;\n",
       "    }\n",
       "\n",
       "    .dataframe thead th {\n",
       "        text-align: right;\n",
       "    }\n",
       "</style>\n",
       "<table border=\"1\" class=\"dataframe\">\n",
       "  <thead>\n",
       "    <tr style=\"text-align: right;\">\n",
       "      <th></th>\n",
       "      <th>member_compare</th>\n",
       "      <th>affinity_score</th>\n",
       "    </tr>\n",
       "  </thead>\n",
       "  <tbody>\n",
       "    <tr>\n",
       "      <th>0</th>\n",
       "      <td>40305</td>\n",
       "      <td>0.856618</td>\n",
       "    </tr>\n",
       "    <tr>\n",
       "      <th>1</th>\n",
       "      <td>21133</td>\n",
       "      <td>0.841912</td>\n",
       "    </tr>\n",
       "    <tr>\n",
       "      <th>2</th>\n",
       "      <td>29754</td>\n",
       "      <td>0.838235</td>\n",
       "    </tr>\n",
       "    <tr>\n",
       "      <th>3</th>\n",
       "      <td>20146</td>\n",
       "      <td>0.838235</td>\n",
       "    </tr>\n",
       "    <tr>\n",
       "      <th>4</th>\n",
       "      <td>20101</td>\n",
       "      <td>0.834559</td>\n",
       "    </tr>\n",
       "    <tr>\n",
       "      <th>5</th>\n",
       "      <td>41902</td>\n",
       "      <td>0.827206</td>\n",
       "    </tr>\n",
       "    <tr>\n",
       "      <th>6</th>\n",
       "      <td>41505</td>\n",
       "      <td>0.823529</td>\n",
       "    </tr>\n",
       "    <tr>\n",
       "      <th>7</th>\n",
       "      <td>29534</td>\n",
       "      <td>0.823529</td>\n",
       "    </tr>\n",
       "    <tr>\n",
       "      <th>8</th>\n",
       "      <td>41302</td>\n",
       "      <td>0.816176</td>\n",
       "    </tr>\n",
       "    <tr>\n",
       "      <th>9</th>\n",
       "      <td>41502</td>\n",
       "      <td>0.816176</td>\n",
       "    </tr>\n",
       "  </tbody>\n",
       "</table>\n",
       "</div>"
      ],
      "text/plain": [
       "   member_compare  affinity_score\n",
       "0           40305        0.856618\n",
       "1           21133        0.841912\n",
       "2           29754        0.838235\n",
       "3           20146        0.838235\n",
       "4           20101        0.834559\n",
       "5           41902        0.827206\n",
       "6           41505        0.823529\n",
       "7           29534        0.823529\n",
       "8           41302        0.816176\n",
       "9           41502        0.816176"
      ]
     },
     "execution_count": 20,
     "metadata": {},
     "output_type": "execute_result"
    }
   ],
   "source": [
    "b = 'G000386'\n",
    "myquery = f'''\n",
    "SELECT v.member_compare, v.affinity_score\n",
    "FROM members m\n",
    "INNER JOIN votesim v\n",
    "    ON m.icpsr = v.icpsr\n",
    "WHERE m.bioguideid = '{b}'\n",
    "ORDER BY v.affinity_score DESC\n",
    "LIMIT 10\n",
    "'''\n",
    "pd.read_sql_query(myquery, con=engine)"
   ]
  },
  {
   "cell_type": "code",
   "execution_count": 32,
   "id": "282e624c-9908-447b-8f5e-7a64a4bfd8b5",
   "metadata": {},
   "outputs": [
    {
     "data": {
      "text/html": [
       "<div>\n",
       "<style scoped>\n",
       "    .dataframe tbody tr th:only-of-type {\n",
       "        vertical-align: middle;\n",
       "    }\n",
       "\n",
       "    .dataframe tbody tr th {\n",
       "        vertical-align: top;\n",
       "    }\n",
       "\n",
       "    .dataframe thead th {\n",
       "        text-align: right;\n",
       "    }\n",
       "</style>\n",
       "<table border=\"1\" class=\"dataframe\">\n",
       "  <thead>\n",
       "    <tr style=\"text-align: right;\">\n",
       "      <th></th>\n",
       "      <th>Name</th>\n",
       "      <th>State</th>\n",
       "      <th>Party</th>\n",
       "      <th>Vote Similarity</th>\n",
       "    </tr>\n",
       "  </thead>\n",
       "  <tbody>\n",
       "    <tr>\n",
       "      <th>0</th>\n",
       "      <td>John Cornyn</td>\n",
       "      <td>Texas</td>\n",
       "      <td>R</td>\n",
       "      <td>85.7%</td>\n",
       "    </tr>\n",
       "    <tr>\n",
       "      <th>1</th>\n",
       "      <td>Todd Young</td>\n",
       "      <td>Indiana</td>\n",
       "      <td>R</td>\n",
       "      <td>84.2%</td>\n",
       "    </tr>\n",
       "    <tr>\n",
       "      <th>2</th>\n",
       "      <td>Shelley Moore Capito</td>\n",
       "      <td>West Virginia</td>\n",
       "      <td>R</td>\n",
       "      <td>83.8%</td>\n",
       "    </tr>\n",
       "    <tr>\n",
       "      <th>3</th>\n",
       "      <td>John Thune</td>\n",
       "      <td>South Dakota</td>\n",
       "      <td>R</td>\n",
       "      <td>83.8%</td>\n",
       "    </tr>\n",
       "    <tr>\n",
       "      <th>4</th>\n",
       "      <td>John Boozman</td>\n",
       "      <td>Arkansas</td>\n",
       "      <td>R</td>\n",
       "      <td>83.5%</td>\n",
       "    </tr>\n",
       "    <tr>\n",
       "      <th>5</th>\n",
       "      <td>Mitt Romney</td>\n",
       "      <td>Utah</td>\n",
       "      <td>R</td>\n",
       "      <td>82.7%</td>\n",
       "    </tr>\n",
       "    <tr>\n",
       "      <th>6</th>\n",
       "      <td>Mike Rounds</td>\n",
       "      <td>South Dakota</td>\n",
       "      <td>R</td>\n",
       "      <td>82.4%</td>\n",
       "    </tr>\n",
       "    <tr>\n",
       "      <th>7</th>\n",
       "      <td>Roger F. Wicker</td>\n",
       "      <td>Mississippi</td>\n",
       "      <td>R</td>\n",
       "      <td>82.4%</td>\n",
       "    </tr>\n",
       "    <tr>\n",
       "      <th>8</th>\n",
       "      <td>Deb Fischer</td>\n",
       "      <td>Nebraska</td>\n",
       "      <td>R</td>\n",
       "      <td>81.6%</td>\n",
       "    </tr>\n",
       "    <tr>\n",
       "      <th>9</th>\n",
       "      <td>Joni Ernst</td>\n",
       "      <td>Iowa</td>\n",
       "      <td>R</td>\n",
       "      <td>81.6%</td>\n",
       "    </tr>\n",
       "  </tbody>\n",
       "</table>\n",
       "</div>"
      ],
      "text/plain": [
       "                   Name          State Party Vote Similarity\n",
       "0           John Cornyn          Texas     R           85.7%\n",
       "1            Todd Young        Indiana     R           84.2%\n",
       "2  Shelley Moore Capito  West Virginia     R           83.8%\n",
       "3            John Thune   South Dakota     R           83.8%\n",
       "4          John Boozman       Arkansas     R           83.5%\n",
       "5           Mitt Romney           Utah     R           82.7%\n",
       "6           Mike Rounds   South Dakota     R           82.4%\n",
       "7       Roger F. Wicker    Mississippi     R           82.4%\n",
       "8           Deb Fischer       Nebraska     R           81.6%\n",
       "9            Joni Ernst           Iowa     R           81.6%"
      ]
     },
     "execution_count": 32,
     "metadata": {},
     "output_type": "execute_result"
    }
   ],
   "source": [
    "b = 'G000386'\n",
    "myquery = f'''\n",
    "SELECT m.directordername,\n",
    "       m.state,\n",
    "       m.party,\n",
    "       g.affinity_score\n",
    "FROM members m\n",
    "INNER JOIN (SELECT v.member_compare, v.affinity_score\n",
    "    FROM members m\n",
    "    INNER JOIN votesim v\n",
    "        ON m.icpsr = v.icpsr\n",
    "    WHERE m.bioguideid = '{b}'\n",
    "    ORDER BY v.affinity_score DESC\n",
    "    LIMIT 10) g\n",
    "    ON m.icpsr = g.member_compare\n",
    "ORDER BY g.affinity_score DESC\n",
    "'''\n",
    "votedf = pd.read_sql_query(myquery, con=engine)\n",
    "votedf = votedf.rename({'directordername': 'Name', 'state': 'State', 'party': 'Party', 'affinity_score': 'Vote Similarity'},\n",
    "                       axis= 1)\n",
    "votedf['Vote Similarity'] = round(100*votedf['Vote Similarity'], 1).astype('str') + '%'\n",
    "votedf"
   ]
  },
  {
   "cell_type": "code",
   "execution_count": 47,
   "id": "3eed0d83-d295-4e28-9906-06a8190b36b3",
   "metadata": {},
   "outputs": [
    {
     "data": {
      "application/vnd.plotly.v1+json": {
       "config": {
        "plotlyServerURL": "https://plot.ly"
       },
       "data": [
        {
         "alignmentgroup": "True",
         "hovertemplate": "Source=Contribution Via PAC<br>Amount Donated=%{x}<br>Organization=%{y}<extra></extra>",
         "legendgroup": "Contribution Via PAC",
         "marker": {
          "color": "#636efa",
          "pattern": {
           "shape": ""
          }
         },
         "name": "Contribution Via PAC",
         "offsetgroup": "Contribution Via PAC",
         "orientation": "h",
         "showlegend": true,
         "textposition": "auto",
         "type": "bar",
         "x": [
          0,
          51200,
          0,
          0,
          5000,
          11500,
          20000,
          0,
          7500,
          0
         ],
         "xaxis": "x",
         "y": [
          "Democracy Engine",
          "National Republican Senatorial Cmte",
          "Blackstone Group",
          "DCI Group",
          "DISH Network",
          "Renewable Energy Group",
          "Promoting Our Republican Team PAC",
          "alliantgroup",
          "Brownstein, Hyatt et al",
          "Energy Transfer Partners"
         ],
         "yaxis": "y"
        },
        {
         "alignmentgroup": "True",
         "hovertemplate": "Source=Direct Contribution<br>Amount Donated=%{x}<br>Organization=%{y}<extra></extra>",
         "legendgroup": "Direct Contribution",
         "marker": {
          "color": "#EF553B",
          "pattern": {
           "shape": ""
          }
         },
         "name": "Direct Contribution",
         "offsetgroup": "Direct Contribution",
         "orientation": "h",
         "showlegend": true,
         "textposition": "auto",
         "type": "bar",
         "x": [
          108460,
          0,
          25305,
          25150,
          19900,
          8800,
          0,
          19750,
          10133,
          17408
         ],
         "xaxis": "x",
         "y": [
          "Democracy Engine",
          "National Republican Senatorial Cmte",
          "Blackstone Group",
          "DCI Group",
          "DISH Network",
          "Renewable Energy Group",
          "Promoting Our Republican Team PAC",
          "alliantgroup",
          "Brownstein, Hyatt et al",
          "Energy Transfer Partners"
         ],
         "yaxis": "y"
        }
       ],
       "layout": {
        "barmode": "relative",
        "legend": {
         "title": {
          "text": "Source"
         },
         "tracegroupgap": 0
        },
        "template": {
         "data": {
          "bar": [
           {
            "error_x": {
             "color": "#2a3f5f"
            },
            "error_y": {
             "color": "#2a3f5f"
            },
            "marker": {
             "line": {
              "color": "#E5ECF6",
              "width": 0.5
             },
             "pattern": {
              "fillmode": "overlay",
              "size": 10,
              "solidity": 0.2
             }
            },
            "type": "bar"
           }
          ],
          "barpolar": [
           {
            "marker": {
             "line": {
              "color": "#E5ECF6",
              "width": 0.5
             },
             "pattern": {
              "fillmode": "overlay",
              "size": 10,
              "solidity": 0.2
             }
            },
            "type": "barpolar"
           }
          ],
          "carpet": [
           {
            "aaxis": {
             "endlinecolor": "#2a3f5f",
             "gridcolor": "white",
             "linecolor": "white",
             "minorgridcolor": "white",
             "startlinecolor": "#2a3f5f"
            },
            "baxis": {
             "endlinecolor": "#2a3f5f",
             "gridcolor": "white",
             "linecolor": "white",
             "minorgridcolor": "white",
             "startlinecolor": "#2a3f5f"
            },
            "type": "carpet"
           }
          ],
          "choropleth": [
           {
            "colorbar": {
             "outlinewidth": 0,
             "ticks": ""
            },
            "type": "choropleth"
           }
          ],
          "contour": [
           {
            "colorbar": {
             "outlinewidth": 0,
             "ticks": ""
            },
            "colorscale": [
             [
              0,
              "#0d0887"
             ],
             [
              0.1111111111111111,
              "#46039f"
             ],
             [
              0.2222222222222222,
              "#7201a8"
             ],
             [
              0.3333333333333333,
              "#9c179e"
             ],
             [
              0.4444444444444444,
              "#bd3786"
             ],
             [
              0.5555555555555556,
              "#d8576b"
             ],
             [
              0.6666666666666666,
              "#ed7953"
             ],
             [
              0.7777777777777778,
              "#fb9f3a"
             ],
             [
              0.8888888888888888,
              "#fdca26"
             ],
             [
              1,
              "#f0f921"
             ]
            ],
            "type": "contour"
           }
          ],
          "contourcarpet": [
           {
            "colorbar": {
             "outlinewidth": 0,
             "ticks": ""
            },
            "type": "contourcarpet"
           }
          ],
          "heatmap": [
           {
            "colorbar": {
             "outlinewidth": 0,
             "ticks": ""
            },
            "colorscale": [
             [
              0,
              "#0d0887"
             ],
             [
              0.1111111111111111,
              "#46039f"
             ],
             [
              0.2222222222222222,
              "#7201a8"
             ],
             [
              0.3333333333333333,
              "#9c179e"
             ],
             [
              0.4444444444444444,
              "#bd3786"
             ],
             [
              0.5555555555555556,
              "#d8576b"
             ],
             [
              0.6666666666666666,
              "#ed7953"
             ],
             [
              0.7777777777777778,
              "#fb9f3a"
             ],
             [
              0.8888888888888888,
              "#fdca26"
             ],
             [
              1,
              "#f0f921"
             ]
            ],
            "type": "heatmap"
           }
          ],
          "heatmapgl": [
           {
            "colorbar": {
             "outlinewidth": 0,
             "ticks": ""
            },
            "colorscale": [
             [
              0,
              "#0d0887"
             ],
             [
              0.1111111111111111,
              "#46039f"
             ],
             [
              0.2222222222222222,
              "#7201a8"
             ],
             [
              0.3333333333333333,
              "#9c179e"
             ],
             [
              0.4444444444444444,
              "#bd3786"
             ],
             [
              0.5555555555555556,
              "#d8576b"
             ],
             [
              0.6666666666666666,
              "#ed7953"
             ],
             [
              0.7777777777777778,
              "#fb9f3a"
             ],
             [
              0.8888888888888888,
              "#fdca26"
             ],
             [
              1,
              "#f0f921"
             ]
            ],
            "type": "heatmapgl"
           }
          ],
          "histogram": [
           {
            "marker": {
             "pattern": {
              "fillmode": "overlay",
              "size": 10,
              "solidity": 0.2
             }
            },
            "type": "histogram"
           }
          ],
          "histogram2d": [
           {
            "colorbar": {
             "outlinewidth": 0,
             "ticks": ""
            },
            "colorscale": [
             [
              0,
              "#0d0887"
             ],
             [
              0.1111111111111111,
              "#46039f"
             ],
             [
              0.2222222222222222,
              "#7201a8"
             ],
             [
              0.3333333333333333,
              "#9c179e"
             ],
             [
              0.4444444444444444,
              "#bd3786"
             ],
             [
              0.5555555555555556,
              "#d8576b"
             ],
             [
              0.6666666666666666,
              "#ed7953"
             ],
             [
              0.7777777777777778,
              "#fb9f3a"
             ],
             [
              0.8888888888888888,
              "#fdca26"
             ],
             [
              1,
              "#f0f921"
             ]
            ],
            "type": "histogram2d"
           }
          ],
          "histogram2dcontour": [
           {
            "colorbar": {
             "outlinewidth": 0,
             "ticks": ""
            },
            "colorscale": [
             [
              0,
              "#0d0887"
             ],
             [
              0.1111111111111111,
              "#46039f"
             ],
             [
              0.2222222222222222,
              "#7201a8"
             ],
             [
              0.3333333333333333,
              "#9c179e"
             ],
             [
              0.4444444444444444,
              "#bd3786"
             ],
             [
              0.5555555555555556,
              "#d8576b"
             ],
             [
              0.6666666666666666,
              "#ed7953"
             ],
             [
              0.7777777777777778,
              "#fb9f3a"
             ],
             [
              0.8888888888888888,
              "#fdca26"
             ],
             [
              1,
              "#f0f921"
             ]
            ],
            "type": "histogram2dcontour"
           }
          ],
          "mesh3d": [
           {
            "colorbar": {
             "outlinewidth": 0,
             "ticks": ""
            },
            "type": "mesh3d"
           }
          ],
          "parcoords": [
           {
            "line": {
             "colorbar": {
              "outlinewidth": 0,
              "ticks": ""
             }
            },
            "type": "parcoords"
           }
          ],
          "pie": [
           {
            "automargin": true,
            "type": "pie"
           }
          ],
          "scatter": [
           {
            "fillpattern": {
             "fillmode": "overlay",
             "size": 10,
             "solidity": 0.2
            },
            "type": "scatter"
           }
          ],
          "scatter3d": [
           {
            "line": {
             "colorbar": {
              "outlinewidth": 0,
              "ticks": ""
             }
            },
            "marker": {
             "colorbar": {
              "outlinewidth": 0,
              "ticks": ""
             }
            },
            "type": "scatter3d"
           }
          ],
          "scattercarpet": [
           {
            "marker": {
             "colorbar": {
              "outlinewidth": 0,
              "ticks": ""
             }
            },
            "type": "scattercarpet"
           }
          ],
          "scattergeo": [
           {
            "marker": {
             "colorbar": {
              "outlinewidth": 0,
              "ticks": ""
             }
            },
            "type": "scattergeo"
           }
          ],
          "scattergl": [
           {
            "marker": {
             "colorbar": {
              "outlinewidth": 0,
              "ticks": ""
             }
            },
            "type": "scattergl"
           }
          ],
          "scattermapbox": [
           {
            "marker": {
             "colorbar": {
              "outlinewidth": 0,
              "ticks": ""
             }
            },
            "type": "scattermapbox"
           }
          ],
          "scatterpolar": [
           {
            "marker": {
             "colorbar": {
              "outlinewidth": 0,
              "ticks": ""
             }
            },
            "type": "scatterpolar"
           }
          ],
          "scatterpolargl": [
           {
            "marker": {
             "colorbar": {
              "outlinewidth": 0,
              "ticks": ""
             }
            },
            "type": "scatterpolargl"
           }
          ],
          "scatterternary": [
           {
            "marker": {
             "colorbar": {
              "outlinewidth": 0,
              "ticks": ""
             }
            },
            "type": "scatterternary"
           }
          ],
          "surface": [
           {
            "colorbar": {
             "outlinewidth": 0,
             "ticks": ""
            },
            "colorscale": [
             [
              0,
              "#0d0887"
             ],
             [
              0.1111111111111111,
              "#46039f"
             ],
             [
              0.2222222222222222,
              "#7201a8"
             ],
             [
              0.3333333333333333,
              "#9c179e"
             ],
             [
              0.4444444444444444,
              "#bd3786"
             ],
             [
              0.5555555555555556,
              "#d8576b"
             ],
             [
              0.6666666666666666,
              "#ed7953"
             ],
             [
              0.7777777777777778,
              "#fb9f3a"
             ],
             [
              0.8888888888888888,
              "#fdca26"
             ],
             [
              1,
              "#f0f921"
             ]
            ],
            "type": "surface"
           }
          ],
          "table": [
           {
            "cells": {
             "fill": {
              "color": "#EBF0F8"
             },
             "line": {
              "color": "white"
             }
            },
            "header": {
             "fill": {
              "color": "#C8D4E3"
             },
             "line": {
              "color": "white"
             }
            },
            "type": "table"
           }
          ]
         },
         "layout": {
          "annotationdefaults": {
           "arrowcolor": "#2a3f5f",
           "arrowhead": 0,
           "arrowwidth": 1
          },
          "autotypenumbers": "strict",
          "coloraxis": {
           "colorbar": {
            "outlinewidth": 0,
            "ticks": ""
           }
          },
          "colorscale": {
           "diverging": [
            [
             0,
             "#8e0152"
            ],
            [
             0.1,
             "#c51b7d"
            ],
            [
             0.2,
             "#de77ae"
            ],
            [
             0.3,
             "#f1b6da"
            ],
            [
             0.4,
             "#fde0ef"
            ],
            [
             0.5,
             "#f7f7f7"
            ],
            [
             0.6,
             "#e6f5d0"
            ],
            [
             0.7,
             "#b8e186"
            ],
            [
             0.8,
             "#7fbc41"
            ],
            [
             0.9,
             "#4d9221"
            ],
            [
             1,
             "#276419"
            ]
           ],
           "sequential": [
            [
             0,
             "#0d0887"
            ],
            [
             0.1111111111111111,
             "#46039f"
            ],
            [
             0.2222222222222222,
             "#7201a8"
            ],
            [
             0.3333333333333333,
             "#9c179e"
            ],
            [
             0.4444444444444444,
             "#bd3786"
            ],
            [
             0.5555555555555556,
             "#d8576b"
            ],
            [
             0.6666666666666666,
             "#ed7953"
            ],
            [
             0.7777777777777778,
             "#fb9f3a"
            ],
            [
             0.8888888888888888,
             "#fdca26"
            ],
            [
             1,
             "#f0f921"
            ]
           ],
           "sequentialminus": [
            [
             0,
             "#0d0887"
            ],
            [
             0.1111111111111111,
             "#46039f"
            ],
            [
             0.2222222222222222,
             "#7201a8"
            ],
            [
             0.3333333333333333,
             "#9c179e"
            ],
            [
             0.4444444444444444,
             "#bd3786"
            ],
            [
             0.5555555555555556,
             "#d8576b"
            ],
            [
             0.6666666666666666,
             "#ed7953"
            ],
            [
             0.7777777777777778,
             "#fb9f3a"
            ],
            [
             0.8888888888888888,
             "#fdca26"
            ],
            [
             1,
             "#f0f921"
            ]
           ]
          },
          "colorway": [
           "#636efa",
           "#EF553B",
           "#00cc96",
           "#ab63fa",
           "#FFA15A",
           "#19d3f3",
           "#FF6692",
           "#B6E880",
           "#FF97FF",
           "#FECB52"
          ],
          "font": {
           "color": "#2a3f5f"
          },
          "geo": {
           "bgcolor": "white",
           "lakecolor": "white",
           "landcolor": "#E5ECF6",
           "showlakes": true,
           "showland": true,
           "subunitcolor": "white"
          },
          "hoverlabel": {
           "align": "left"
          },
          "hovermode": "closest",
          "mapbox": {
           "style": "light"
          },
          "paper_bgcolor": "white",
          "plot_bgcolor": "#E5ECF6",
          "polar": {
           "angularaxis": {
            "gridcolor": "white",
            "linecolor": "white",
            "ticks": ""
           },
           "bgcolor": "#E5ECF6",
           "radialaxis": {
            "gridcolor": "white",
            "linecolor": "white",
            "ticks": ""
           }
          },
          "scene": {
           "xaxis": {
            "backgroundcolor": "#E5ECF6",
            "gridcolor": "white",
            "gridwidth": 2,
            "linecolor": "white",
            "showbackground": true,
            "ticks": "",
            "zerolinecolor": "white"
           },
           "yaxis": {
            "backgroundcolor": "#E5ECF6",
            "gridcolor": "white",
            "gridwidth": 2,
            "linecolor": "white",
            "showbackground": true,
            "ticks": "",
            "zerolinecolor": "white"
           },
           "zaxis": {
            "backgroundcolor": "#E5ECF6",
            "gridcolor": "white",
            "gridwidth": 2,
            "linecolor": "white",
            "showbackground": true,
            "ticks": "",
            "zerolinecolor": "white"
           }
          },
          "shapedefaults": {
           "line": {
            "color": "#2a3f5f"
           }
          },
          "ternary": {
           "aaxis": {
            "gridcolor": "white",
            "linecolor": "white",
            "ticks": ""
           },
           "baxis": {
            "gridcolor": "white",
            "linecolor": "white",
            "ticks": ""
           },
           "bgcolor": "#E5ECF6",
           "caxis": {
            "gridcolor": "white",
            "linecolor": "white",
            "ticks": ""
           }
          },
          "title": {
           "x": 0.05
          },
          "xaxis": {
           "automargin": true,
           "gridcolor": "white",
           "linecolor": "white",
           "ticks": "",
           "title": {
            "standoff": 15
           },
           "zerolinecolor": "white",
           "zerolinewidth": 2
          },
          "yaxis": {
           "automargin": true,
           "gridcolor": "white",
           "linecolor": "white",
           "ticks": "",
           "title": {
            "standoff": 15
           },
           "zerolinecolor": "white",
           "zerolinewidth": 2
          }
         }
        },
        "title": {
         "text": "Who's giving money to Chuck Grassley?",
         "x": 0.5
        },
        "xaxis": {
         "anchor": "y",
         "domain": [
          0,
          1
         ],
         "title": {
          "text": "Amount Donated"
         }
        },
        "yaxis": {
         "anchor": "x",
         "domain": [
          0,
          1
         ],
         "title": {
          "text": "Organization"
         }
        }
       }
      },
      "text/html": [
       "<div>                            <div id=\"d89fa225-22e0-436a-9fdb-bdc451e6d240\" class=\"plotly-graph-div\" style=\"height:525px; width:100%;\"></div>            <script type=\"text/javascript\">                require([\"plotly\"], function(Plotly) {                    window.PLOTLYENV=window.PLOTLYENV || {};                                    if (document.getElementById(\"d89fa225-22e0-436a-9fdb-bdc451e6d240\")) {                    Plotly.newPlot(                        \"d89fa225-22e0-436a-9fdb-bdc451e6d240\",                        [{\"alignmentgroup\":\"True\",\"hovertemplate\":\"Source=Contribution Via PAC\\u003cbr\\u003eAmount Donated=%{x}\\u003cbr\\u003eOrganization=%{y}\\u003cextra\\u003e\\u003c\\u002fextra\\u003e\",\"legendgroup\":\"Contribution Via PAC\",\"marker\":{\"color\":\"#636efa\",\"pattern\":{\"shape\":\"\"}},\"name\":\"Contribution Via PAC\",\"offsetgroup\":\"Contribution Via PAC\",\"orientation\":\"h\",\"showlegend\":true,\"textposition\":\"auto\",\"x\":[0,51200,0,0,5000,11500,20000,0,7500,0],\"xaxis\":\"x\",\"y\":[\"Democracy Engine\",\"National Republican Senatorial Cmte\",\"Blackstone Group\",\"DCI Group\",\"DISH Network\",\"Renewable Energy Group\",\"Promoting Our Republican Team PAC\",\"alliantgroup\",\"Brownstein, Hyatt et al\",\"Energy Transfer Partners\"],\"yaxis\":\"y\",\"type\":\"bar\"},{\"alignmentgroup\":\"True\",\"hovertemplate\":\"Source=Direct Contribution\\u003cbr\\u003eAmount Donated=%{x}\\u003cbr\\u003eOrganization=%{y}\\u003cextra\\u003e\\u003c\\u002fextra\\u003e\",\"legendgroup\":\"Direct Contribution\",\"marker\":{\"color\":\"#EF553B\",\"pattern\":{\"shape\":\"\"}},\"name\":\"Direct Contribution\",\"offsetgroup\":\"Direct Contribution\",\"orientation\":\"h\",\"showlegend\":true,\"textposition\":\"auto\",\"x\":[108460,0,25305,25150,19900,8800,0,19750,10133,17408],\"xaxis\":\"x\",\"y\":[\"Democracy Engine\",\"National Republican Senatorial Cmte\",\"Blackstone Group\",\"DCI Group\",\"DISH Network\",\"Renewable Energy Group\",\"Promoting Our Republican Team PAC\",\"alliantgroup\",\"Brownstein, Hyatt et al\",\"Energy Transfer Partners\"],\"yaxis\":\"y\",\"type\":\"bar\"}],                        {\"template\":{\"data\":{\"histogram2dcontour\":[{\"type\":\"histogram2dcontour\",\"colorbar\":{\"outlinewidth\":0,\"ticks\":\"\"},\"colorscale\":[[0.0,\"#0d0887\"],[0.1111111111111111,\"#46039f\"],[0.2222222222222222,\"#7201a8\"],[0.3333333333333333,\"#9c179e\"],[0.4444444444444444,\"#bd3786\"],[0.5555555555555556,\"#d8576b\"],[0.6666666666666666,\"#ed7953\"],[0.7777777777777778,\"#fb9f3a\"],[0.8888888888888888,\"#fdca26\"],[1.0,\"#f0f921\"]]}],\"choropleth\":[{\"type\":\"choropleth\",\"colorbar\":{\"outlinewidth\":0,\"ticks\":\"\"}}],\"histogram2d\":[{\"type\":\"histogram2d\",\"colorbar\":{\"outlinewidth\":0,\"ticks\":\"\"},\"colorscale\":[[0.0,\"#0d0887\"],[0.1111111111111111,\"#46039f\"],[0.2222222222222222,\"#7201a8\"],[0.3333333333333333,\"#9c179e\"],[0.4444444444444444,\"#bd3786\"],[0.5555555555555556,\"#d8576b\"],[0.6666666666666666,\"#ed7953\"],[0.7777777777777778,\"#fb9f3a\"],[0.8888888888888888,\"#fdca26\"],[1.0,\"#f0f921\"]]}],\"heatmap\":[{\"type\":\"heatmap\",\"colorbar\":{\"outlinewidth\":0,\"ticks\":\"\"},\"colorscale\":[[0.0,\"#0d0887\"],[0.1111111111111111,\"#46039f\"],[0.2222222222222222,\"#7201a8\"],[0.3333333333333333,\"#9c179e\"],[0.4444444444444444,\"#bd3786\"],[0.5555555555555556,\"#d8576b\"],[0.6666666666666666,\"#ed7953\"],[0.7777777777777778,\"#fb9f3a\"],[0.8888888888888888,\"#fdca26\"],[1.0,\"#f0f921\"]]}],\"heatmapgl\":[{\"type\":\"heatmapgl\",\"colorbar\":{\"outlinewidth\":0,\"ticks\":\"\"},\"colorscale\":[[0.0,\"#0d0887\"],[0.1111111111111111,\"#46039f\"],[0.2222222222222222,\"#7201a8\"],[0.3333333333333333,\"#9c179e\"],[0.4444444444444444,\"#bd3786\"],[0.5555555555555556,\"#d8576b\"],[0.6666666666666666,\"#ed7953\"],[0.7777777777777778,\"#fb9f3a\"],[0.8888888888888888,\"#fdca26\"],[1.0,\"#f0f921\"]]}],\"contourcarpet\":[{\"type\":\"contourcarpet\",\"colorbar\":{\"outlinewidth\":0,\"ticks\":\"\"}}],\"contour\":[{\"type\":\"contour\",\"colorbar\":{\"outlinewidth\":0,\"ticks\":\"\"},\"colorscale\":[[0.0,\"#0d0887\"],[0.1111111111111111,\"#46039f\"],[0.2222222222222222,\"#7201a8\"],[0.3333333333333333,\"#9c179e\"],[0.4444444444444444,\"#bd3786\"],[0.5555555555555556,\"#d8576b\"],[0.6666666666666666,\"#ed7953\"],[0.7777777777777778,\"#fb9f3a\"],[0.8888888888888888,\"#fdca26\"],[1.0,\"#f0f921\"]]}],\"surface\":[{\"type\":\"surface\",\"colorbar\":{\"outlinewidth\":0,\"ticks\":\"\"},\"colorscale\":[[0.0,\"#0d0887\"],[0.1111111111111111,\"#46039f\"],[0.2222222222222222,\"#7201a8\"],[0.3333333333333333,\"#9c179e\"],[0.4444444444444444,\"#bd3786\"],[0.5555555555555556,\"#d8576b\"],[0.6666666666666666,\"#ed7953\"],[0.7777777777777778,\"#fb9f3a\"],[0.8888888888888888,\"#fdca26\"],[1.0,\"#f0f921\"]]}],\"mesh3d\":[{\"type\":\"mesh3d\",\"colorbar\":{\"outlinewidth\":0,\"ticks\":\"\"}}],\"scatter\":[{\"fillpattern\":{\"fillmode\":\"overlay\",\"size\":10,\"solidity\":0.2},\"type\":\"scatter\"}],\"parcoords\":[{\"type\":\"parcoords\",\"line\":{\"colorbar\":{\"outlinewidth\":0,\"ticks\":\"\"}}}],\"scatterpolargl\":[{\"type\":\"scatterpolargl\",\"marker\":{\"colorbar\":{\"outlinewidth\":0,\"ticks\":\"\"}}}],\"bar\":[{\"error_x\":{\"color\":\"#2a3f5f\"},\"error_y\":{\"color\":\"#2a3f5f\"},\"marker\":{\"line\":{\"color\":\"#E5ECF6\",\"width\":0.5},\"pattern\":{\"fillmode\":\"overlay\",\"size\":10,\"solidity\":0.2}},\"type\":\"bar\"}],\"scattergeo\":[{\"type\":\"scattergeo\",\"marker\":{\"colorbar\":{\"outlinewidth\":0,\"ticks\":\"\"}}}],\"scatterpolar\":[{\"type\":\"scatterpolar\",\"marker\":{\"colorbar\":{\"outlinewidth\":0,\"ticks\":\"\"}}}],\"histogram\":[{\"marker\":{\"pattern\":{\"fillmode\":\"overlay\",\"size\":10,\"solidity\":0.2}},\"type\":\"histogram\"}],\"scattergl\":[{\"type\":\"scattergl\",\"marker\":{\"colorbar\":{\"outlinewidth\":0,\"ticks\":\"\"}}}],\"scatter3d\":[{\"type\":\"scatter3d\",\"line\":{\"colorbar\":{\"outlinewidth\":0,\"ticks\":\"\"}},\"marker\":{\"colorbar\":{\"outlinewidth\":0,\"ticks\":\"\"}}}],\"scattermapbox\":[{\"type\":\"scattermapbox\",\"marker\":{\"colorbar\":{\"outlinewidth\":0,\"ticks\":\"\"}}}],\"scatterternary\":[{\"type\":\"scatterternary\",\"marker\":{\"colorbar\":{\"outlinewidth\":0,\"ticks\":\"\"}}}],\"scattercarpet\":[{\"type\":\"scattercarpet\",\"marker\":{\"colorbar\":{\"outlinewidth\":0,\"ticks\":\"\"}}}],\"carpet\":[{\"aaxis\":{\"endlinecolor\":\"#2a3f5f\",\"gridcolor\":\"white\",\"linecolor\":\"white\",\"minorgridcolor\":\"white\",\"startlinecolor\":\"#2a3f5f\"},\"baxis\":{\"endlinecolor\":\"#2a3f5f\",\"gridcolor\":\"white\",\"linecolor\":\"white\",\"minorgridcolor\":\"white\",\"startlinecolor\":\"#2a3f5f\"},\"type\":\"carpet\"}],\"table\":[{\"cells\":{\"fill\":{\"color\":\"#EBF0F8\"},\"line\":{\"color\":\"white\"}},\"header\":{\"fill\":{\"color\":\"#C8D4E3\"},\"line\":{\"color\":\"white\"}},\"type\":\"table\"}],\"barpolar\":[{\"marker\":{\"line\":{\"color\":\"#E5ECF6\",\"width\":0.5},\"pattern\":{\"fillmode\":\"overlay\",\"size\":10,\"solidity\":0.2}},\"type\":\"barpolar\"}],\"pie\":[{\"automargin\":true,\"type\":\"pie\"}]},\"layout\":{\"autotypenumbers\":\"strict\",\"colorway\":[\"#636efa\",\"#EF553B\",\"#00cc96\",\"#ab63fa\",\"#FFA15A\",\"#19d3f3\",\"#FF6692\",\"#B6E880\",\"#FF97FF\",\"#FECB52\"],\"font\":{\"color\":\"#2a3f5f\"},\"hovermode\":\"closest\",\"hoverlabel\":{\"align\":\"left\"},\"paper_bgcolor\":\"white\",\"plot_bgcolor\":\"#E5ECF6\",\"polar\":{\"bgcolor\":\"#E5ECF6\",\"angularaxis\":{\"gridcolor\":\"white\",\"linecolor\":\"white\",\"ticks\":\"\"},\"radialaxis\":{\"gridcolor\":\"white\",\"linecolor\":\"white\",\"ticks\":\"\"}},\"ternary\":{\"bgcolor\":\"#E5ECF6\",\"aaxis\":{\"gridcolor\":\"white\",\"linecolor\":\"white\",\"ticks\":\"\"},\"baxis\":{\"gridcolor\":\"white\",\"linecolor\":\"white\",\"ticks\":\"\"},\"caxis\":{\"gridcolor\":\"white\",\"linecolor\":\"white\",\"ticks\":\"\"}},\"coloraxis\":{\"colorbar\":{\"outlinewidth\":0,\"ticks\":\"\"}},\"colorscale\":{\"sequential\":[[0.0,\"#0d0887\"],[0.1111111111111111,\"#46039f\"],[0.2222222222222222,\"#7201a8\"],[0.3333333333333333,\"#9c179e\"],[0.4444444444444444,\"#bd3786\"],[0.5555555555555556,\"#d8576b\"],[0.6666666666666666,\"#ed7953\"],[0.7777777777777778,\"#fb9f3a\"],[0.8888888888888888,\"#fdca26\"],[1.0,\"#f0f921\"]],\"sequentialminus\":[[0.0,\"#0d0887\"],[0.1111111111111111,\"#46039f\"],[0.2222222222222222,\"#7201a8\"],[0.3333333333333333,\"#9c179e\"],[0.4444444444444444,\"#bd3786\"],[0.5555555555555556,\"#d8576b\"],[0.6666666666666666,\"#ed7953\"],[0.7777777777777778,\"#fb9f3a\"],[0.8888888888888888,\"#fdca26\"],[1.0,\"#f0f921\"]],\"diverging\":[[0,\"#8e0152\"],[0.1,\"#c51b7d\"],[0.2,\"#de77ae\"],[0.3,\"#f1b6da\"],[0.4,\"#fde0ef\"],[0.5,\"#f7f7f7\"],[0.6,\"#e6f5d0\"],[0.7,\"#b8e186\"],[0.8,\"#7fbc41\"],[0.9,\"#4d9221\"],[1,\"#276419\"]]},\"xaxis\":{\"gridcolor\":\"white\",\"linecolor\":\"white\",\"ticks\":\"\",\"title\":{\"standoff\":15},\"zerolinecolor\":\"white\",\"automargin\":true,\"zerolinewidth\":2},\"yaxis\":{\"gridcolor\":\"white\",\"linecolor\":\"white\",\"ticks\":\"\",\"title\":{\"standoff\":15},\"zerolinecolor\":\"white\",\"automargin\":true,\"zerolinewidth\":2},\"scene\":{\"xaxis\":{\"backgroundcolor\":\"#E5ECF6\",\"gridcolor\":\"white\",\"linecolor\":\"white\",\"showbackground\":true,\"ticks\":\"\",\"zerolinecolor\":\"white\",\"gridwidth\":2},\"yaxis\":{\"backgroundcolor\":\"#E5ECF6\",\"gridcolor\":\"white\",\"linecolor\":\"white\",\"showbackground\":true,\"ticks\":\"\",\"zerolinecolor\":\"white\",\"gridwidth\":2},\"zaxis\":{\"backgroundcolor\":\"#E5ECF6\",\"gridcolor\":\"white\",\"linecolor\":\"white\",\"showbackground\":true,\"ticks\":\"\",\"zerolinecolor\":\"white\",\"gridwidth\":2}},\"shapedefaults\":{\"line\":{\"color\":\"#2a3f5f\"}},\"annotationdefaults\":{\"arrowcolor\":\"#2a3f5f\",\"arrowhead\":0,\"arrowwidth\":1},\"geo\":{\"bgcolor\":\"white\",\"landcolor\":\"#E5ECF6\",\"subunitcolor\":\"white\",\"showland\":true,\"showlakes\":true,\"lakecolor\":\"white\"},\"title\":{\"x\":0.05},\"mapbox\":{\"style\":\"light\"}}},\"xaxis\":{\"anchor\":\"y\",\"domain\":[0.0,1.0],\"title\":{\"text\":\"Amount Donated\"}},\"yaxis\":{\"anchor\":\"x\",\"domain\":[0.0,1.0],\"title\":{\"text\":\"Organization\"}},\"legend\":{\"title\":{\"text\":\"Source\"},\"tracegroupgap\":0},\"title\":{\"text\":\"Who's giving money to Chuck Grassley?\",\"x\":0.5},\"barmode\":\"relative\"},                        {\"responsive\": true}                    ).then(function(){\n",
       "                            \n",
       "var gd = document.getElementById('d89fa225-22e0-436a-9fdb-bdc451e6d240');\n",
       "var x = new MutationObserver(function (mutations, observer) {{\n",
       "        var display = window.getComputedStyle(gd).display;\n",
       "        if (!display || display === 'none') {{\n",
       "            console.log([gd, 'removed!']);\n",
       "            Plotly.purge(gd);\n",
       "            observer.disconnect();\n",
       "        }}\n",
       "}});\n",
       "\n",
       "// Listen for the removal of the full notebook cells\n",
       "var notebookContainer = gd.closest('#notebook-container');\n",
       "if (notebookContainer) {{\n",
       "    x.observe(notebookContainer, {childList: true});\n",
       "}}\n",
       "\n",
       "// Listen for the clearing of the current output cell\n",
       "var outputEl = gd.closest('.output');\n",
       "if (outputEl) {{\n",
       "    x.observe(outputEl, {childList: true});\n",
       "}}\n",
       "\n",
       "                        })                };                });            </script>        </div>"
      ]
     },
     "metadata": {},
     "output_type": "display_data"
    }
   ],
   "source": [
    "b = 'G000386'\n",
    "myquery = f'''\n",
    "SELECT m.directordername,\n",
    "       c.org_name,\n",
    "       c.pac,\n",
    "       c.ndiv\n",
    "FROM contributions c\n",
    "INNER JOIN members m\n",
    "    ON m.cid = c.cid\n",
    "WHERE m.bioguideid = '{b}'\n",
    "'''\n",
    "contribdf = pd.read_sql_query(myquery, con=engine)\n",
    "name = contribdf['directordername'][0]\n",
    "contribdf = contribdf.drop(['directordername'], axis = 1)\n",
    "contribdf = contribdf.rename({'org_name':'Organization',\n",
    "                             'pac': 'Contribution Via PAC',\n",
    "                             'ndiv':'Direct Contribution'}, axis = 1)\n",
    "contribdf = pd.melt(contribdf, id_vars = ['Organization'],\n",
    "                   value_vars = ['Contribution Via PAC','Direct Contribution'])\n",
    "fig = px.bar(contribdf, x='value', y='Organization', color='variable',\n",
    "            labels = {'value': 'Amount Donated',\n",
    "                     'variable':'Source'},\n",
    "            title = f\"Who's giving money to {name}?\")\n",
    "fig.update(layout=dict(title=dict(x=0.5)))\n",
    "fig.show()"
   ]
  },
  {
   "cell_type": "code",
   "execution_count": null,
   "id": "902c3116-715e-489f-9848-efb0a12dab0c",
   "metadata": {},
   "outputs": [],
   "source": []
  }
 ],
 "metadata": {
  "kernelspec": {
   "display_name": "Python 3 (ipykernel)",
   "language": "python",
   "name": "python3"
  },
  "language_info": {
   "codemirror_mode": {
    "name": "ipython",
    "version": 3
   },
   "file_extension": ".py",
   "mimetype": "text/x-python",
   "name": "python",
   "nbconvert_exporter": "python",
   "pygments_lexer": "ipython3",
   "version": "3.11.4"
  }
 },
 "nbformat": 4,
 "nbformat_minor": 5
}
