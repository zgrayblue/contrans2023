{
 "cells": [
  {
   "cell_type": "code",
   "execution_count": 2,
   "id": "1dec3312-4561-4076-b5b3-d5da648d6f56",
   "metadata": {},
   "outputs": [],
   "source": [
    "import numpy as np\n",
    "import pandas as pd\n",
    "import requests\n",
    "import json\n",
    "from bs4 import BeautifulSoup"
   ]
  },
  {
   "cell_type": "code",
   "execution_count": 3,
   "id": "7f663203-ba42-4e8b-b325-1b28b2496fa4",
   "metadata": {},
   "outputs": [],
   "source": [
    "r = requests.get('http://httpbin.org/user-agent')\n",
    "useragent = json.loads(r.text)['user-agent']\n",
    "headers = {'User-Agent': useragent,\n",
    "          'From': 'pdy2bw@virginia.edu'}"
   ]
  },
  {
   "cell_type": "code",
   "execution_count": 4,
   "id": "54b3be60-28b0-4cd6-a9b0-7b901ad9aa80",
   "metadata": {},
   "outputs": [],
   "source": [
    "url = 'https://www.govinfo.gov/content/pkg/BILLS-118s475is/html/BILLS-118s475is.htm'"
   ]
  },
  {
   "cell_type": "code",
   "execution_count": 5,
   "id": "e3c1a842-bc3c-4d5f-a3ab-6951f4fa9031",
   "metadata": {},
   "outputs": [
    {
     "data": {
      "text/plain": [
       "<Response [200]>"
      ]
     },
     "execution_count": 5,
     "metadata": {},
     "output_type": "execute_result"
    }
   ],
   "source": [
    "r = requests.get(url, headers=headers)\n",
    "r"
   ]
  },
  {
   "cell_type": "code",
   "execution_count": 16,
   "id": "55adaa0c-5329-43d1-a43b-00805327491f",
   "metadata": {},
   "outputs": [],
   "source": [
    "mysoup = BeautifulSoup(r.text, 'html.parser')\n",
    "#mysoup"
   ]
  },
  {
   "cell_type": "code",
   "execution_count": 19,
   "id": "c47da1a7-1bb4-41c8-9785-bb9f61ac9e2e",
   "metadata": {},
   "outputs": [
    {
     "name": "stdout",
     "output_type": "stream",
     "text": [
      "\n",
      "[Congressional Bills 118th Congress]\n",
      "[From the U.S. Government Publishing Office]\n",
      "[S. 475 Introduced in Senate (IS)]\n",
      "\n",
      "<DOC>\n",
      "\n",
      "\n",
      "\n",
      "\n",
      "\n",
      "\n",
      "118th CONGRESS\n",
      "  1st Session\n",
      "                                 S. 475\n",
      "\n",
      "   To designate the clinic of the Department of Veterans Affairs in \n",
      "   Gallup, New Mexico, as the Hiroshi ``Hershey'' Miyamura VA Clinic.\n",
      "\n",
      "\n",
      "_______________________________________________________________________\n",
      "\n",
      "\n",
      "                   IN THE SENATE OF THE UNITED STATES\n",
      "\n",
      "                           February 16, 2023\n",
      "\n",
      "Mr. Heinrich (for himself and Mr. Lujan) introduced the following bill; \n",
      "which was read twice and referred to the Committee on Veterans' Affairs\n",
      "\n",
      "_______________________________________________________________________\n",
      "\n",
      "                                 A BILL\n",
      "\n",
      "\n",
      " \n",
      "   To designate the clinic of the Department of Veterans Affairs in \n",
      "   Gallup, New Mexico, as the Hiroshi ``Hershey'' Miyamura VA Clinic.\n",
      "\n",
      "    Be it enacted by the Senate and House of Representatives of the \n",
      "United States of America in Congress assembled,\n",
      "\n",
      "SECTION 1. DESIGNATION OF HIROSHI ``HERSHEY'' MIYAMURA DEPARTMENT OF \n",
      "              VETERANS AFFAIRS CLINIC.\n",
      "\n",
      "    (a) Findings.--Congress finds the following:\n",
      "            (1) Hiroshi ``Hershey'' Miyamura was born on October 6, \n",
      "        1925, in Gallup, New Mexico.\n",
      "            (2) A second generation Japanese American, Hershey Miyamura \n",
      "        first served in the United States Army near the end of World \n",
      "        War II.\n",
      "            (3) Hershey Miyamura served in the Army at a time when many \n",
      "        of his fellow Japanese Americans, and that includes his future \n",
      "        wife, were detained in internment camps in the United States.\n",
      "            (4) Hershey Miyamura served in the storied 442nd Infantry \n",
      "        Regiment, which was composed of soldiers with Japanese ancestry \n",
      "        and became one of the most decorated units in the history of \n",
      "        the United States military.\n",
      "            (5) Following the start of the Korean War in 1950, the Army \n",
      "        recalled Hershey Miyamura, who had remained as a member of the \n",
      "        reserve components of the Army, back into active duty.\n",
      "            (6) During an overnight firefight from April 24 to April \n",
      "        25, 1951, then-Corporal Miyamura covered the withdrawal of his \n",
      "        entire company from advancing enemy forces as a machine gun \n",
      "        squad leader.\n",
      "            (7) The selfless actions by Hershey Miyamura that night \n",
      "        allowed all 16 of his men to withdraw safely before he was \n",
      "        severely wounded and captured as a prisoner of war.\n",
      "            (8) Nearly 2\\1/2\\ years later, following his release and \n",
      "        return to the United States, President Eisenhower presented \n",
      "        Hershey Miyamura with the Congressional Medal of Honor in a \n",
      "        ceremony at the White House.\n",
      "            (9) The lifelong dedication of Hershey Miyamura to the \n",
      "        United States never ceased. It continued long after his \n",
      "        decorated military service ended.\n",
      "            (10) After he received his honorable discharge from the \n",
      "        Army, Hershey Miyamura opened a service station along Route 66 \n",
      "        in his hometown of Gallup, New Mexico.\n",
      "            (11) Hershey Miyamura remained active in his community \n",
      "        until his dying days, advocating for his fellow veterans and \n",
      "        inspiring young people with lectures on patriotism, faith, and \n",
      "        service.\n",
      "    (b) Designation.--The clinic of the Department of Veterans Affairs \n",
      "located at 2075 South NM Highway 602, Gallup, New Mexico, shall after \n",
      "the date of the enactment of this Act be known and designated as the \n",
      "``Hiroshi `Hershey' Miyamura Department of Veterans Affairs Clinic'' or \n",
      "the ``Hiroshi `Hershey' Miyamura VA Clinic''.\n",
      "    (c) References.--Any reference in any law, regulation, map, \n",
      "document, paper, or other record of the United States to the clinic \n",
      "referred to in subsection (b) shall be considered to be a reference to \n",
      "the ``Hiroshi `Hershey' Miyamura VA Clinic''.\n",
      "                                 <all>\n",
      "\n"
     ]
    }
   ],
   "source": [
    "print(mysoup.find_all('pre')[0].text)"
   ]
  },
  {
   "cell_type": "code",
   "execution_count": 9,
   "id": "8a1385a4-6717-43a9-b545-dfd156c5c17c",
   "metadata": {},
   "outputs": [
    {
     "name": "stdout",
     "output_type": "stream",
     "text": [
      "Retrieving S. 10\n",
      "Retrieving S. 20\n",
      "Retrieving S. 30\n",
      "Retrieving S. 40\n",
      "Retrieving S. 50\n",
      "Retrieving S. 60\n",
      "Retrieving S. 70\n",
      "Retrieving S. 80\n",
      "Retrieving S. 90\n"
     ]
    },
    {
     "data": {
      "text/html": [
       "<div>\n",
       "<style scoped>\n",
       "    .dataframe tbody tr th:only-of-type {\n",
       "        vertical-align: middle;\n",
       "    }\n",
       "\n",
       "    .dataframe tbody tr th {\n",
       "        vertical-align: top;\n",
       "    }\n",
       "\n",
       "    .dataframe thead th {\n",
       "        text-align: right;\n",
       "    }\n",
       "</style>\n",
       "<table border=\"1\" class=\"dataframe\">\n",
       "  <thead>\n",
       "    <tr style=\"text-align: right;\">\n",
       "      <th></th>\n",
       "      <th>Bill Number</th>\n",
       "      <th>Bill Text</th>\n",
       "    </tr>\n",
       "  </thead>\n",
       "  <tbody>\n",
       "    <tr>\n",
       "      <th>0</th>\n",
       "      <td>S. 1</td>\n",
       "      <td>\\n[Congressional Bills 118th Congress]\\n[From ...</td>\n",
       "    </tr>\n",
       "    <tr>\n",
       "      <th>1</th>\n",
       "      <td>S. 5</td>\n",
       "      <td>\\n[Congressional Bills 118th Congress]\\n[From ...</td>\n",
       "    </tr>\n",
       "    <tr>\n",
       "      <th>2</th>\n",
       "      <td>S. 6</td>\n",
       "      <td>\\n[Congressional Bills 118th Congress]\\n[From ...</td>\n",
       "    </tr>\n",
       "    <tr>\n",
       "      <th>3</th>\n",
       "      <td>S. 7</td>\n",
       "      <td>\\n[Congressional Bills 118th Congress]\\n[From ...</td>\n",
       "    </tr>\n",
       "    <tr>\n",
       "      <th>4</th>\n",
       "      <td>S. 8</td>\n",
       "      <td>\\n[Congressional Bills 118th Congress]\\n[From ...</td>\n",
       "    </tr>\n",
       "    <tr>\n",
       "      <th>...</th>\n",
       "      <td>...</td>\n",
       "      <td>...</td>\n",
       "    </tr>\n",
       "    <tr>\n",
       "      <th>89</th>\n",
       "      <td>S. 95</td>\n",
       "      <td>\\n[Congressional Bills 118th Congress]\\n[From ...</td>\n",
       "    </tr>\n",
       "    <tr>\n",
       "      <th>90</th>\n",
       "      <td>S. 96</td>\n",
       "      <td>\\n[Congressional Bills 118th Congress]\\n[From ...</td>\n",
       "    </tr>\n",
       "    <tr>\n",
       "      <th>91</th>\n",
       "      <td>S. 97</td>\n",
       "      <td>\\n[Congressional Bills 118th Congress]\\n[From ...</td>\n",
       "    </tr>\n",
       "    <tr>\n",
       "      <th>92</th>\n",
       "      <td>S. 98</td>\n",
       "      <td>\\n[Congressional Bills 118th Congress]\\n[From ...</td>\n",
       "    </tr>\n",
       "    <tr>\n",
       "      <th>93</th>\n",
       "      <td>S. 99</td>\n",
       "      <td>\\n[Congressional Bills 118th Congress]\\n[From ...</td>\n",
       "    </tr>\n",
       "  </tbody>\n",
       "</table>\n",
       "<p>94 rows × 2 columns</p>\n",
       "</div>"
      ],
      "text/plain": [
       "   Bill Number                                          Bill Text\n",
       "0         S. 1  \\n[Congressional Bills 118th Congress]\\n[From ...\n",
       "1         S. 5  \\n[Congressional Bills 118th Congress]\\n[From ...\n",
       "2         S. 6  \\n[Congressional Bills 118th Congress]\\n[From ...\n",
       "3         S. 7  \\n[Congressional Bills 118th Congress]\\n[From ...\n",
       "4         S. 8  \\n[Congressional Bills 118th Congress]\\n[From ...\n",
       "..         ...                                                ...\n",
       "89       S. 95  \\n[Congressional Bills 118th Congress]\\n[From ...\n",
       "90       S. 96  \\n[Congressional Bills 118th Congress]\\n[From ...\n",
       "91       S. 97  \\n[Congressional Bills 118th Congress]\\n[From ...\n",
       "92       S. 98  \\n[Congressional Bills 118th Congress]\\n[From ...\n",
       "93       S. 99  \\n[Congressional Bills 118th Congress]\\n[From ...\n",
       "\n",
       "[94 rows x 2 columns]"
      ]
     },
     "execution_count": 9,
     "metadata": {},
     "output_type": "execute_result"
    }
   ],
   "source": [
    "senate_bills = []\n",
    "for i in range(1, 100):\n",
    "    if i % 10==0:\n",
    "        print(f\"Retrieving S. {i}\")\n",
    "    try:\n",
    "        url = f'https://www.govinfo.gov/content/pkg/BILLS-118s{i}is/html/BILLS-118s{i}is.htm'\n",
    "        r = requests.get(url, headers=headers)\n",
    "        mysoup = BeautifulSoup(r.text, 'html.parser')\n",
    "        bill_text = mysoup.find_all('pre')[0].text\n",
    "        senate_bills.append({\"Bill Number\": f\"S. {i}\", \"Bill Text\": bill_text})\n",
    "    except:\n",
    "        continue\n",
    "\n",
    "senate_bills = pd.DataFrame.from_dict(senate_bills)\n",
    "senate_bills"
   ]
  },
  {
   "cell_type": "code",
   "execution_count": 10,
   "id": "fb16bf3e-55ed-4ce0-93b1-13c3ba016340",
   "metadata": {},
   "outputs": [],
   "source": [
    "senate_bills.to_csv('senate_bills.csv')"
   ]
  },
  {
   "cell_type": "code",
   "execution_count": null,
   "id": "e702120e-ccc3-4f5d-9019-4dd978b9eaf0",
   "metadata": {},
   "outputs": [],
   "source": []
  }
 ],
 "metadata": {
  "kernelspec": {
   "display_name": "Python 3 (ipykernel)",
   "language": "python",
   "name": "python3"
  },
  "language_info": {
   "codemirror_mode": {
    "name": "ipython",
    "version": 3
   },
   "file_extension": ".py",
   "mimetype": "text/x-python",
   "name": "python",
   "nbconvert_exporter": "python",
   "pygments_lexer": "ipython3",
   "version": "3.11.4"
  }
 },
 "nbformat": 4,
 "nbformat_minor": 5
}
